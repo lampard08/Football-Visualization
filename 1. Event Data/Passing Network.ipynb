{
 "cells": [
  {
   "cell_type": "markdown",
   "metadata": {},
   "source": [
    "# Passing Networks"
   ]
  },
  {
   "cell_type": "code",
   "execution_count": 1,
   "metadata": {},
   "outputs": [],
   "source": [
    "from mplsoccer import Sbopen,Pitch\n",
    "import matplotlib.pyplot as plt\n",
    "import pandas as pd\n",
    "import numpy as np"
   ]
  },
  {
   "cell_type": "code",
   "execution_count": 11,
   "metadata": {},
   "outputs": [],
   "source": [
    "parser = Sbopen()\n",
    "df,related,freeze,tactics = parser.event(18244)"
   ]
  },
  {
   "cell_type": "markdown",
   "metadata": {},
   "source": [
    "## Preparing the data\n",
    "- Filter: only successful passes until the first sub\n",
    "- Need: Pass maker and Receiver. Start and End locations"
   ]
  },
  {
   "cell_type": "code",
   "execution_count": 24,
   "metadata": {},
   "outputs": [
    {
     "data": {
      "text/plain": [
       "Index(['id', 'index', 'period', 'timestamp', 'minute', 'second', 'possession',\n",
       "       'duration', 'match_id', 'type_id', 'type_name', 'possession_team_id',\n",
       "       'possession_team_name', 'play_pattern_id', 'play_pattern_name',\n",
       "       'team_id', 'team_name', 'tactics_formation', 'player_id', 'player_name',\n",
       "       'position_id', 'position_name', 'pass_recipient_id',\n",
       "       'pass_recipient_name', 'pass_length', 'pass_angle', 'pass_height_id',\n",
       "       'pass_height_name', 'end_x', 'end_y', 'sub_type_id', 'sub_type_name',\n",
       "       'body_part_id', 'body_part_name', 'x', 'y', 'outcome_id',\n",
       "       'outcome_name', 'under_pressure', 'counterpress', 'off_camera',\n",
       "       'foul_won_defensive', 'pass_switch', 'dribble_overrun', 'pass_cross',\n",
       "       'pass_assisted_shot_id', 'pass_shot_assist', 'shot_statsbomb_xg',\n",
       "       'end_z', 'shot_key_pass_id', 'technique_id', 'technique_name',\n",
       "       'goalkeeper_position_id', 'goalkeeper_position_name', 'pass_backheel',\n",
       "       'foul_committed_advantage', 'foul_won_advantage',\n",
       "       'foul_committed_card_id', 'foul_committed_card_name',\n",
       "       'foul_committed_offensive', 'aerial_won', 'pass_goal_assist',\n",
       "       'shot_deflected', 'shot_first_time', 'block_deflection',\n",
       "       'pass_deflected', 'ball_recovery_recovery_failure', 'pass_cut_back',\n",
       "       'bad_behaviour_card_id', 'bad_behaviour_card_name',\n",
       "       'substitution_replacement_id', 'substitution_replacement_name'],\n",
       "      dtype='object')"
      ]
     },
     "execution_count": 24,
     "metadata": {},
     "output_type": "execute_result"
    }
   ],
   "source": [
    "df.columns"
   ]
  },
  {
   "cell_type": "code",
   "execution_count": 13,
   "metadata": {},
   "outputs": [
    {
     "data": {
      "text/plain": [
       "array(['Starting XI', 'Half Start', 'Pass', 'Ball Receipt', 'Carry',\n",
       "       'Clearance', 'Pressure', 'Block', 'Dribbled Past', 'Dribble',\n",
       "       'Foul Committed', 'Foul Won', 'Miscontrol', 'Ball Recovery',\n",
       "       'Dispossessed', 'Duel', 'Shot', 'Goal Keeper', 'Interception',\n",
       "       'Offside', 'Tactical Shift', 'Injury Stoppage', 'Half End',\n",
       "       'Bad Behaviour', 'Substitution', '50/50'], dtype=object)"
      ]
     },
     "execution_count": 13,
     "metadata": {},
     "output_type": "execute_result"
    }
   ],
   "source": [
    "df.type_name.unique()"
   ]
  },
  {
   "cell_type": "code",
   "execution_count": 16,
   "metadata": {},
   "outputs": [],
   "source": [
    "# check for index for the first sub\n",
    "sub = df.loc[df['type_name']=='Substitution'].loc[df['team_name']=='Real Madrid'].iloc[0]['index']\n",
    "# make df with successful passes by England til the first substition\n",
    "mask_rm = (df.type_name=='Pass') & (df.team_name=='Real Madrid') & (df.index<sub) & (df.outcome_name.isnull()) & (df.sub_type_name !='Throw-in')\n",
    "# taking necessary columns\n",
    "df_pass = df.loc[mask_rm,['x','y','end_x','end_y','player_name','pass_recipient_name']]\n",
    "# adjusting that only the surname of a player is presented\n",
    "df_pass['player_name'] = df_pass['player_name'].apply(lambda x:str(x).split()[-1])\n",
    "df_pass[\"pass_recipient_name\"] = df_pass[\"pass_recipient_name\"].apply(lambda x: str(x).split()[-1])"
   ]
  },
  {
   "cell_type": "code",
   "execution_count": 18,
   "metadata": {},
   "outputs": [
    {
     "data": {
      "text/html": [
       "<div>\n",
       "<style scoped>\n",
       "    .dataframe tbody tr th:only-of-type {\n",
       "        vertical-align: middle;\n",
       "    }\n",
       "\n",
       "    .dataframe tbody tr th {\n",
       "        vertical-align: top;\n",
       "    }\n",
       "\n",
       "    .dataframe thead th {\n",
       "        text-align: right;\n",
       "    }\n",
       "</style>\n",
       "<table border=\"1\" class=\"dataframe\">\n",
       "  <thead>\n",
       "    <tr style=\"text-align: right;\">\n",
       "      <th></th>\n",
       "      <th>x</th>\n",
       "      <th>y</th>\n",
       "      <th>end_x</th>\n",
       "      <th>end_y</th>\n",
       "      <th>player_name</th>\n",
       "      <th>pass_recipient_name</th>\n",
       "    </tr>\n",
       "  </thead>\n",
       "  <tbody>\n",
       "    <tr>\n",
       "      <th>16</th>\n",
       "      <td>29.0</td>\n",
       "      <td>73.0</td>\n",
       "      <td>32.0</td>\n",
       "      <td>74.0</td>\n",
       "      <td>Ramos</td>\n",
       "      <td>Modrić</td>\n",
       "    </tr>\n",
       "    <tr>\n",
       "      <th>55</th>\n",
       "      <td>15.0</td>\n",
       "      <td>54.0</td>\n",
       "      <td>21.0</td>\n",
       "      <td>62.0</td>\n",
       "      <td>Kroos</td>\n",
       "      <td>Modrić</td>\n",
       "    </tr>\n",
       "    <tr>\n",
       "      <th>64</th>\n",
       "      <td>27.0</td>\n",
       "      <td>56.0</td>\n",
       "      <td>41.0</td>\n",
       "      <td>63.0</td>\n",
       "      <td>Varane</td>\n",
       "      <td>Modrić</td>\n",
       "    </tr>\n",
       "    <tr>\n",
       "      <th>93</th>\n",
       "      <td>48.0</td>\n",
       "      <td>70.0</td>\n",
       "      <td>57.0</td>\n",
       "      <td>65.0</td>\n",
       "      <td>Varane</td>\n",
       "      <td>Kroos</td>\n",
       "    </tr>\n",
       "    <tr>\n",
       "      <th>96</th>\n",
       "      <td>57.0</td>\n",
       "      <td>65.0</td>\n",
       "      <td>61.0</td>\n",
       "      <td>75.0</td>\n",
       "      <td>Kroos</td>\n",
       "      <td>Modrić</td>\n",
       "    </tr>\n",
       "  </tbody>\n",
       "</table>\n",
       "</div>"
      ],
      "text/plain": [
       "       x     y  end_x  end_y player_name pass_recipient_name\n",
       "16  29.0  73.0   32.0   74.0       Ramos              Modrić\n",
       "55  15.0  54.0   21.0   62.0       Kroos              Modrić\n",
       "64  27.0  56.0   41.0   63.0      Varane              Modrić\n",
       "93  48.0  70.0   57.0   65.0      Varane               Kroos\n",
       "96  57.0  65.0   61.0   75.0       Kroos              Modrić"
      ]
     },
     "execution_count": 18,
     "metadata": {},
     "output_type": "execute_result"
    }
   ],
   "source": [
    "df_pass.head()"
   ]
  },
  {
   "cell_type": "markdown",
   "metadata": {},
   "source": [
    "## Calculating vertices size and location"
   ]
  },
  {
   "cell_type": "markdown",
   "metadata": {},
   "source": [
    "- location: every player's average location\n",
    "- vertices size: number of passes made by each player"
   ]
  },
  {
   "cell_type": "code",
   "execution_count": 23,
   "metadata": {},
   "outputs": [
    {
     "name": "stdout",
     "output_type": "stream",
     "text": [
      "0 Ramos\n",
      "1 Kroos\n",
      "2 Varane\n",
      "3 Modrić\n",
      "4 García\n",
      "5 Júnior\n",
      "6 Suárez\n",
      "7 Gamboa\n",
      "8 Casimiro\n",
      "9 Aveiro\n",
      "10 Benzema\n"
     ]
    }
   ],
   "source": [
    "scatter_df = pd.DataFrame()\n",
    "for i, name in enumerate(df_pass['player_name'].unique()):\n",
    "    # print(i,name)\n",
    "    passx = df_pass.loc[df_pass['player_name']==name]['x'].to_numpy()\n",
    "    recx = df_pass.loc[df_pass[\"pass_recipient_name\"] == name][\"end_x\"].to_numpy()\n",
    "    passy = df_pass.loc[df_pass['player_name']==name]['y'].to_numpy()\n",
    "    recy = df_pass.loc[df_pass[\"pass_recipient_name\"] == name][\"end_y\"].to_numpy()\n",
    "    scatter_df.at[i, \"player_name\"] = name\n",
    "    scatter_df.at[i, \"x\"] = np.mean(np.concatenate([passx, recx]))\n",
    "    scatter_df.at[i, \"y\"] = np.mean(np.concatenate([passy, recy]))\n",
    "    #calculate number of passes\n",
    "    scatter_df.at[i, \"num\"] = df_pass.loc[df_pass[\"player_name\"] == name].count().iloc[0]\n",
    "\n",
    "# adjust circle size for vertices\n",
    "scatter_df['marker_size'] = (scatter_df['num'] / scatter_df['num'].max() * 1500)\n"
   ]
  },
  {
   "cell_type": "markdown",
   "metadata": {},
   "source": [
    "## Calculating edges width\n"
   ]
  },
  {
   "cell_type": "code",
   "execution_count": null,
   "metadata": {},
   "outputs": [],
   "source": []
  }
 ],
 "metadata": {
  "kernelspec": {
   "display_name": "base",
   "language": "python",
   "name": "python3"
  },
  "language_info": {
   "codemirror_mode": {
    "name": "ipython",
    "version": 3
   },
   "file_extension": ".py",
   "mimetype": "text/x-python",
   "name": "python",
   "nbconvert_exporter": "python",
   "pygments_lexer": "ipython3",
   "version": "3.11.5"
  }
 },
 "nbformat": 4,
 "nbformat_minor": 2
}
