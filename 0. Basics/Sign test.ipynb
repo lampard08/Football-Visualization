{
 "cells": [
  {
   "cell_type": "markdown",
   "id": "4b4db099",
   "metadata": {},
   "source": [
    "# Statistics fundamentals"
   ]
  },
  {
   "cell_type": "markdown",
   "id": "50ca2881",
   "metadata": {},
   "source": [
    "## Sign test ---- Is Son Heung-Min an ambipedal?"
   ]
  },
  {
   "cell_type": "code",
   "execution_count": 1,
   "id": "a3542d9b",
   "metadata": {},
   "outputs": [],
   "source": [
    "import pandas as pd\n",
    "import numpy as np\n",
    "import json\n",
    "import matplotlib.pyplot as plt\n",
    "import os\n",
    "import pathlib\n",
    "import warnings\n",
    "pd.options.mode.chained_assignment = None\n",
    "warnings.filterwarnings('ignore')"
   ]
  },
  {
   "cell_type": "markdown",
   "id": "01bec698",
   "metadata": {},
   "source": [
    "### Opening the dataset"
   ]
  },
  {
   "cell_type": "markdown",
   "id": "a825bbc4",
   "metadata": {},
   "source": [
    "Data: PL 17/18 from Wyscout"
   ]
  },
  {
   "cell_type": "code",
   "execution_count": 2,
   "id": "2ffd9570",
   "metadata": {},
   "outputs": [],
   "source": [
    "# open event data\n",
    "path = os.path.join(str(pathlib.Path().resolve()), 'Wyscout','events', 'events_England.json')\n",
    "with open(path) as f:\n",
    "    data = json.load(f)\n",
    "\n",
    "events = pd.DataFrame(data)"
   ]
  },
  {
   "cell_type": "code",
   "execution_count": 3,
   "id": "b33a8902",
   "metadata": {},
   "outputs": [],
   "source": [
    "path = os.path.join(str(pathlib.Path().resolve()), 'Wyscout', 'players.json')\n",
    "with open(path) as f:\n",
    "    data = json.load(f)\n",
    "\n",
    "players = pd.DataFrame(data)"
   ]
  },
  {
   "cell_type": "markdown",
   "id": "e6b38a66",
   "metadata": {},
   "source": [
    "### Preparing the dataset"
   ]
  },
  {
   "cell_type": "markdown",
   "id": "97a31327",
   "metadata": {},
   "source": [
    "1. Filter only shot events from all events\n",
    "2. Find Son's ID in players df\n",
    "3. Filter only Son's shot from all shots\n",
    "4. Group Son's shots by the foot he used\n",
    "    - 401 for left foot & 402 for right foot & 403 for header\n",
    "    - Look up tag2name.csv for each tag's name\n"
   ]
  },
  {
   "cell_type": "code",
   "execution_count": 7,
   "id": "0a790395",
   "metadata": {},
   "outputs": [
    {
     "data": {
      "text/html": [
       "<div>\n",
       "<style scoped>\n",
       "    .dataframe tbody tr th:only-of-type {\n",
       "        vertical-align: middle;\n",
       "    }\n",
       "\n",
       "    .dataframe tbody tr th {\n",
       "        vertical-align: top;\n",
       "    }\n",
       "\n",
       "    .dataframe thead th {\n",
       "        text-align: right;\n",
       "    }\n",
       "</style>\n",
       "<table border=\"1\" class=\"dataframe\">\n",
       "  <thead>\n",
       "    <tr style=\"text-align: right;\">\n",
       "      <th></th>\n",
       "      <th>eventId</th>\n",
       "      <th>subEventName</th>\n",
       "      <th>tags</th>\n",
       "      <th>playerId</th>\n",
       "      <th>positions</th>\n",
       "      <th>matchId</th>\n",
       "      <th>eventName</th>\n",
       "      <th>teamId</th>\n",
       "      <th>matchPeriod</th>\n",
       "      <th>eventSec</th>\n",
       "      <th>subEventId</th>\n",
       "      <th>id</th>\n",
       "    </tr>\n",
       "  </thead>\n",
       "  <tbody>\n",
       "    <tr>\n",
       "      <th>0</th>\n",
       "      <td>8</td>\n",
       "      <td>Simple pass</td>\n",
       "      <td>[{'id': 1801}]</td>\n",
       "      <td>25413</td>\n",
       "      <td>[{'y': 49, 'x': 49}, {'y': 78, 'x': 31}]</td>\n",
       "      <td>2499719</td>\n",
       "      <td>Pass</td>\n",
       "      <td>1609</td>\n",
       "      <td>1H</td>\n",
       "      <td>2.758649</td>\n",
       "      <td>85</td>\n",
       "      <td>177959171</td>\n",
       "    </tr>\n",
       "    <tr>\n",
       "      <th>1</th>\n",
       "      <td>8</td>\n",
       "      <td>High pass</td>\n",
       "      <td>[{'id': 1801}]</td>\n",
       "      <td>370224</td>\n",
       "      <td>[{'y': 78, 'x': 31}, {'y': 75, 'x': 51}]</td>\n",
       "      <td>2499719</td>\n",
       "      <td>Pass</td>\n",
       "      <td>1609</td>\n",
       "      <td>1H</td>\n",
       "      <td>4.946850</td>\n",
       "      <td>83</td>\n",
       "      <td>177959172</td>\n",
       "    </tr>\n",
       "    <tr>\n",
       "      <th>2</th>\n",
       "      <td>8</td>\n",
       "      <td>Head pass</td>\n",
       "      <td>[{'id': 1801}]</td>\n",
       "      <td>3319</td>\n",
       "      <td>[{'y': 75, 'x': 51}, {'y': 71, 'x': 35}]</td>\n",
       "      <td>2499719</td>\n",
       "      <td>Pass</td>\n",
       "      <td>1609</td>\n",
       "      <td>1H</td>\n",
       "      <td>6.542188</td>\n",
       "      <td>82</td>\n",
       "      <td>177959173</td>\n",
       "    </tr>\n",
       "    <tr>\n",
       "      <th>3</th>\n",
       "      <td>8</td>\n",
       "      <td>Head pass</td>\n",
       "      <td>[{'id': 1801}]</td>\n",
       "      <td>120339</td>\n",
       "      <td>[{'y': 71, 'x': 35}, {'y': 95, 'x': 41}]</td>\n",
       "      <td>2499719</td>\n",
       "      <td>Pass</td>\n",
       "      <td>1609</td>\n",
       "      <td>1H</td>\n",
       "      <td>8.143395</td>\n",
       "      <td>82</td>\n",
       "      <td>177959174</td>\n",
       "    </tr>\n",
       "    <tr>\n",
       "      <th>4</th>\n",
       "      <td>8</td>\n",
       "      <td>Simple pass</td>\n",
       "      <td>[{'id': 1801}]</td>\n",
       "      <td>167145</td>\n",
       "      <td>[{'y': 95, 'x': 41}, {'y': 88, 'x': 72}]</td>\n",
       "      <td>2499719</td>\n",
       "      <td>Pass</td>\n",
       "      <td>1609</td>\n",
       "      <td>1H</td>\n",
       "      <td>10.302366</td>\n",
       "      <td>85</td>\n",
       "      <td>177959175</td>\n",
       "    </tr>\n",
       "  </tbody>\n",
       "</table>\n",
       "</div>"
      ],
      "text/plain": [
       "   eventId subEventName            tags  playerId  \\\n",
       "0        8  Simple pass  [{'id': 1801}]     25413   \n",
       "1        8    High pass  [{'id': 1801}]    370224   \n",
       "2        8    Head pass  [{'id': 1801}]      3319   \n",
       "3        8    Head pass  [{'id': 1801}]    120339   \n",
       "4        8  Simple pass  [{'id': 1801}]    167145   \n",
       "\n",
       "                                  positions  matchId eventName  teamId  \\\n",
       "0  [{'y': 49, 'x': 49}, {'y': 78, 'x': 31}]  2499719      Pass    1609   \n",
       "1  [{'y': 78, 'x': 31}, {'y': 75, 'x': 51}]  2499719      Pass    1609   \n",
       "2  [{'y': 75, 'x': 51}, {'y': 71, 'x': 35}]  2499719      Pass    1609   \n",
       "3  [{'y': 71, 'x': 35}, {'y': 95, 'x': 41}]  2499719      Pass    1609   \n",
       "4  [{'y': 95, 'x': 41}, {'y': 88, 'x': 72}]  2499719      Pass    1609   \n",
       "\n",
       "  matchPeriod   eventSec subEventId         id  \n",
       "0          1H   2.758649         85  177959171  \n",
       "1          1H   4.946850         83  177959172  \n",
       "2          1H   6.542188         82  177959173  \n",
       "3          1H   8.143395         82  177959174  \n",
       "4          1H  10.302366         85  177959175  "
      ]
     },
     "execution_count": 7,
     "metadata": {},
     "output_type": "execute_result"
    }
   ],
   "source": [
    "events.head()"
   ]
  },
  {
   "cell_type": "code",
   "execution_count": 6,
   "id": "cbad1615",
   "metadata": {},
   "outputs": [
    {
     "data": {
      "text/plain": [
       "array(['Simple pass', 'High pass', 'Head pass', 'Air duel',\n",
       "       'Ground loose ball duel', 'Smart pass', 'Launch',\n",
       "       'Ground defending duel', 'Ground attacking duel', 'Foul',\n",
       "       'Free Kick', 'Cross', 'Shot', 'Reflexes', 'Touch', 'Clearance',\n",
       "       'Ball out of the field', 'Throw in', 'Goal kick', 'Corner',\n",
       "       'Goalkeeper leaving line', 'Hand pass', 'Acceleration',\n",
       "       'Save attempt', '', 'Free kick cross', 'Free kick shot',\n",
       "       'Hand foul', 'Violent Foul', 'Protest', 'Whistle',\n",
       "       'Late card foul', 'Out of game foul', 'Penalty', 'Time lost foul',\n",
       "       'Simulation'], dtype=object)"
      ]
     },
     "execution_count": 6,
     "metadata": {},
     "output_type": "execute_result"
    }
   ],
   "source": [
    "events['subEventName'].unique()"
   ]
  },
  {
   "cell_type": "code",
   "execution_count": 8,
   "id": "6c2043ab",
   "metadata": {},
   "outputs": [
    {
     "data": {
      "text/plain": [
       "array(['Pass', 'Duel', 'Foul', 'Free Kick', 'Shot', 'Save attempt',\n",
       "       'Others on the ball', 'Interruption', 'Goalkeeper leaving line',\n",
       "       'Offside'], dtype=object)"
      ]
     },
     "execution_count": 8,
     "metadata": {},
     "output_type": "execute_result"
    }
   ],
   "source": [
    "events['eventName'].unique()"
   ]
  },
  {
   "cell_type": "code",
   "execution_count": 25,
   "id": "38f4a41b",
   "metadata": {},
   "outputs": [],
   "source": [
    "# filter only shots\n",
    "shots = events[events['eventName']=='Shot']\n",
    "\n",
    "# find Son's ID\n",
    "son_id = players[players['lastName']=='Son']['wyId'].iloc[0]\n",
    "\n",
    "# filter Son's shots\n",
    "son_shots = shots[shots['playerId']== son_id]\n",
    "\n",
    "# shots using left foot\n",
    "left_foot_shots = son_shots[son_shots.apply(lambda x:{'id':401} in x.tags, axis=1)]\n",
    "\n",
    "# shots using right foot\n",
    "right_foot_shots = son_shots[son_shots.apply(lambda x:{'id':402} in x.tags, axis=1)]"
   ]
  },
  {
   "cell_type": "code",
   "execution_count": 28,
   "id": "6ae9f125",
   "metadata": {},
   "outputs": [],
   "source": [
    "# create list with 1 for left foot shots and -1 for right foot shots\n",
    "l = [1] * len(left_foot_shots)\n",
    "l.extend([-1] * len(right_foot_shots))"
   ]
  },
  {
   "cell_type": "markdown",
   "id": "165044ec",
   "metadata": {},
   "source": [
    "### Testing the hypothesis"
   ]
  },
  {
   "cell_type": "code",
   "execution_count": 33,
   "id": "bc0a5970",
   "metadata": {},
   "outputs": [],
   "source": [
    "from statsmodels.stats.descriptivestats import sign_test\n",
    "test = sign_test(l, mu0 = 0)\n",
    "pvalue = test[1]"
   ]
  },
  {
   "cell_type": "code",
   "execution_count": 34,
   "id": "dcb60a19",
   "metadata": {},
   "outputs": [
    {
     "name": "stdout",
     "output_type": "stream",
     "text": [
      "P-value amounts to 0.14  - We do not reject null hypothesis - Heung-Min Son is ambipedal\n"
     ]
    }
   ],
   "source": [
    "if pvalue < 0.05:\n",
    "    print(\"P-value amounts to\", str(pvalue)[:4], \"- We reject null hypothesis - Heung-Min Son is not ambipedal\")\n",
    "else:\n",
    "    print(\"P-value amounts to\", str(pvalue)[:4], \" - We do not reject null hypothesis - Heung-Min Son is ambipedal\")"
   ]
  },
  {
   "cell_type": "code",
   "execution_count": 32,
   "id": "5d93607d",
   "metadata": {},
   "outputs": [],
   "source": [
    "? sign_test"
   ]
  }
 ],
 "metadata": {
  "kernelspec": {
   "display_name": "Python 3 (ipykernel)",
   "language": "python",
   "name": "python3"
  },
  "language_info": {
   "codemirror_mode": {
    "name": "ipython",
    "version": 3
   },
   "file_extension": ".py",
   "mimetype": "text/x-python",
   "name": "python",
   "nbconvert_exporter": "python",
   "pygments_lexer": "ipython3",
   "version": "3.11.5"
  }
 },
 "nbformat": 4,
 "nbformat_minor": 5
}
