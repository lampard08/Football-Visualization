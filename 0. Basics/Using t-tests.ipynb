{
 "cells": [
  {
   "cell_type": "markdown",
   "id": "06d9b17e",
   "metadata": {},
   "source": [
    "# t-tests —— Did Man Utd take different numbers of corners than Man City?"
   ]
  },
  {
   "cell_type": "code",
   "execution_count": 1,
   "id": "90f2144c",
   "metadata": {},
   "outputs": [],
   "source": [
    "import pandas as pd\n",
    "import numpy as np\n",
    "import json\n",
    "import matplotlib.pyplot as plt\n",
    "import os\n",
    "import pathlib\n",
    "import warnings\n",
    "pd.options.mode.chained_assignment = None\n",
    "warnings.filterwarnings('ignore')"
   ]
  },
  {
   "cell_type": "markdown",
   "id": "5060e811",
   "metadata": {},
   "source": [
    "# Opening the dataset"
   ]
  },
  {
   "cell_type": "markdown",
   "id": "7506b59e",
   "metadata": {},
   "source": [
    "PL 17/18:\n",
    "- events data\n",
    "- team data"
   ]
  },
  {
   "cell_type": "code",
   "execution_count": 2,
   "id": "da3f3488",
   "metadata": {},
   "outputs": [],
   "source": [
    "# open event data\n",
    "path = os.path.join(str(pathlib.Path().resolve()), 'Wyscout','events', 'events_England.json')\n",
    "with open(path) as f:\n",
    "    data = json.load(f)\n",
    "\n",
    "events = pd.DataFrame(data)"
   ]
  },
  {
   "cell_type": "code",
   "execution_count": 3,
   "id": "a3485357",
   "metadata": {},
   "outputs": [],
   "source": [
    "# open team data\n",
    "path = os.path.join(str(pathlib.Path().resolve()), 'Wyscout', 'teams.json')\n",
    "with open(path) as f:\n",
    "    data = json.load(f)\n",
    "\n",
    "teams = pd.DataFrame(data)"
   ]
  },
  {
   "cell_type": "code",
   "execution_count": 6,
   "id": "1f8d0184",
   "metadata": {},
   "outputs": [],
   "source": [
    "# change the column name wyId to teamId\n",
    "teams = teams.rename(columns= {'wyId': 'teamId'})"
   ]
  },
  {
   "cell_type": "markdown",
   "id": "208790a8",
   "metadata": {},
   "source": [
    "# Preparing the dataset"
   ]
  },
  {
   "cell_type": "markdown",
   "id": "70b4bd15",
   "metadata": {},
   "source": [
    "calculate corners taken by each team per game"
   ]
  },
  {
   "cell_type": "code",
   "execution_count": 24,
   "id": "9a048a21",
   "metadata": {},
   "outputs": [],
   "source": [
    "# extract corners data\n",
    "corners = events[events['subEventName']=='Corner']\n",
    "# count corners byb team\n",
    "corners_by_team = corners.groupby('teamId').size().reset_index(name='corners')\n",
    "# merge with team name\n",
    "summary = pd.merge(corners_by_team, teams, how = 'left', on='teamId')[['name','corners']]"
   ]
  },
  {
   "cell_type": "code",
   "execution_count": 29,
   "id": "c9648c74",
   "metadata": {},
   "outputs": [],
   "source": [
    "# count corners by team each game\n",
    "corners_by_game = corners.groupby(['teamId','matchId']).size().reset_index(name='corners')\n",
    "# merge with team name\n",
    "summary2 = pd.merge(corners_by_game, teams, how = 'left', on='teamId')[['name','matchId','corners']]"
   ]
  },
  {
   "cell_type": "markdown",
   "id": "1cebb095",
   "metadata": {},
   "source": [
    "# One-sample one-sided t-test"
   ]
  },
  {
   "cell_type": "code",
   "execution_count": 35,
   "id": "79d3db2f",
   "metadata": {},
   "outputs": [
    {
     "name": "stdout",
     "output_type": "stream",
     "text": [
      "5.3\n"
     ]
    }
   ],
   "source": [
    "# average number of corners a team get in one match\n",
    "avg_corners = np.round(summary2['corners'].mean(),1)\n",
    "print(avg_corners)"
   ]
  },
  {
   "cell_type": "markdown",
   "id": "fd00e8ae",
   "metadata": {},
   "source": [
    "## Plotting the distribution of Man City's corners"
   ]
  },
  {
   "cell_type": "code",
   "execution_count": 36,
   "id": "e04696e3",
   "metadata": {},
   "outputs": [],
   "source": [
    "def FormatFigure(ax):\n",
    "    ax.legend(loc='upper left')\n",
    "    ax.set_ylim(0,0.25)\n",
    "    ax.spines['top'].set_visible(False)\n",
    "    ax.spines['right'].set_visible(False)\n",
    "    ax.set_ylabel('')\n",
    "    ax.set_xlabel('Corners')\n",
    "    ax.set_ylabel('Proportion of games')\n",
    "    ax.set_xticks(np.arange(0,21,step=1))"
   ]
  },
  {
   "cell_type": "code",
   "execution_count": 45,
   "id": "61a9c85d",
   "metadata": {},
   "outputs": [
    {
     "data": {
      "image/png": "[encoded data removed]",
      "text/plain": [
       "<Figure size 640x480 with 1 Axes>"
      ]
     },
     "metadata": {},
     "output_type": "display_data"
    }
   ],
   "source": [
    "# get city's matches\n",
    "city_corners = summary2[summary2['name']=='Manchester City']['corners']\n",
    "\n",
    "fig,ax1 = plt.subplots(1,1)\n",
    "ax1.hist(city_corners,np.arange(0.01,20.05,1), color='lightblue', edgecolor = 'white',alpha=0.8,label = 'Man City', density=True)\n",
    "\n",
    "FormatFigure(ax1)"
   ]
  },
  {
   "cell_type": "markdown",
   "id": "6008a95c",
   "metadata": {},
   "source": [
    "## use a one-sided t-test\n",
    "to check if Man city took more corners than the PL's average"
   ]
  },
  {
   "cell_type": "code",
   "execution_count": 46,
   "id": "efc1cc71",
   "metadata": {},
   "outputs": [],
   "source": [
    "from scipy.stats import ttest_1samp\n",
    "t, pvalue = ttest_1samp(city_corners,popmean=avg_corners)"
   ]
  },
  {
   "cell_type": "code",
   "execution_count": 48,
   "id": "01798565",
   "metadata": {},
   "outputs": [
    {
     "name": "stdout",
     "output_type": "stream",
     "text": [
      "The t-staistic is 4.14 and the P-value is 0.00.\n",
      "We reject null hypothesis - Man City typically take more than 6 corners per match.\n"
     ]
    }
   ],
   "source": [
    "print(\"The t-staistic is %.2f and the P-value is %.2f.\"%(t,pvalue))\n",
    "if pvalue < 0.05:\n",
    "    print(\"We reject null hypothesis - \" + 'Man City' + \" typically take more than 6 corners per match.\")\n",
    "else:\n",
    "    print(\"We cannot reject null hypothesis - \" + 'Man City' + \" do not typically take more than 6 corners per match.\")"
   ]
  },
  {
   "cell_type": "markdown",
   "id": "53845b84",
   "metadata": {},
   "source": [
    "# Two-sample two-sided t-test"
   ]
  },
  {
   "cell_type": "markdown",
   "id": "fc4a7a8f",
   "metadata": {},
   "source": [
    "Compare Man United and Man City in terms of corners per match\n"
   ]
  },
  {
   "cell_type": "code",
   "execution_count": 50,
   "id": "e4a79fb3",
   "metadata": {},
   "outputs": [
    {
     "name": "stdout",
     "output_type": "stream",
     "text": [
      "Man Utd typically had 5.71 plus/minus 2.84 corners per match in the 2017/18 season.\n",
      "The standard error in the number of corners per match is 0.4602\n"
     ]
    }
   ],
   "source": [
    "united_corners = summary2[summary2['name']=='Manchester United']['corners']\n",
    "mean = united_corners.mean()\n",
    "std = united_corners.std()\n",
    "print('Man Utd typically had %.2f plus/minus %.2f corners per match in the 2017/18 season.'%(mean,std))\n",
    "std_error=std/np.sqrt(len(united_corners))\n",
    "print('The standard error in the number of corners per match is %.4f'%std_error)"
   ]
  },
  {
   "cell_type": "code",
   "execution_count": 51,
   "id": "e7130a59",
   "metadata": {},
   "outputs": [
    {
     "name": "stdout",
     "output_type": "stream",
     "text": [
      "Man City typically had 7.50 plus/minus 3.28 corners per match in the 2017/18 season.\n",
      "The standard error in the number of corners per match is 0.5317\n"
     ]
    }
   ],
   "source": [
    "mean = city_corners.mean()\n",
    "std = city_corners.std()\n",
    "print('Man City typically had %.2f plus/minus %.2f corners per match in the 2017/18 season.'%(mean,std))\n",
    "std_error=std/np.sqrt(len(united_corners))\n",
    "print('The standard error in the number of corners per match is %.4f'%std_error)"
   ]
  },
  {
   "cell_type": "code",
   "execution_count": 56,
   "id": "a6fc5db0",
   "metadata": {},
   "outputs": [
    {
     "data": {
      "image/png": "[encoded data removed]",
      "text/plain": [
       "<Figure size 640x480 with 1 Axes>"
      ]
     },
     "metadata": {},
     "output_type": "display_data"
    }
   ],
   "source": [
    "fig,ax=plt.subplots(1,1)\n",
    "ax.hist(united_corners, np.arange(0.01,15.5,1), color='red', edgecolor = 'white',linestyle='-',alpha=1, label=\"Uniited\", density=True,align='right')\n",
    "ax.hist(city_corners, np.arange(0.01,15.5,1), alpha=0.15, color='blue', edgecolor = 'black', label='City',  density=True,align='right')\n",
    "FormatFigure(ax)"
   ]
  },
  {
   "cell_type": "markdown",
   "id": "db90045f",
   "metadata": {},
   "source": [
    "Test if City and United had a different avg corners per game\n"
   ]
  },
  {
   "cell_type": "code",
   "execution_count": 57,
   "id": "2717d55e",
   "metadata": {},
   "outputs": [],
   "source": [
    "from scipy.stats import ttest_ind\n",
    "t, pvalue  = ttest_ind(a=city_corners, b=united_corners, equal_var=True)"
   ]
  },
  {
   "cell_type": "code",
   "execution_count": 58,
   "id": "04ed3cea",
   "metadata": {},
   "outputs": [
    {
     "name": "stdout",
     "output_type": "stream",
     "text": [
      "The t-staistic is 2.54 and the P-value is 0.01.\n",
      "We reject null hypothesis - City took different number of corners per game than United\n"
     ]
    }
   ],
   "source": [
    "print(\"The t-staistic is %.2f and the P-value is %.2f.\"%(t,pvalue))\n",
    "if pvalue < 0.05:\n",
    "    print(\"We reject null hypothesis - City took different number of corners per game than United\")\n",
    "else:\n",
    "    print(\"We cannot reject the null hypothesis that City took the same number of corners per game as United\")"
   ]
  },
  {
   "cell_type": "code",
   "execution_count": null,
   "id": "ea5c51a0",
   "metadata": {},
   "outputs": [],
   "source": []
  }
 ],
 "metadata": {
  "kernelspec": {
   "display_name": "Python 3 (ipykernel)",
   "language": "python",
   "name": "python3"
  },
  "language_info": {
   "codemirror_mode": {
    "name": "ipython",
    "version": 3
   },
   "file_extension": ".py",
   "mimetype": "text/x-python",
   "name": "python",
   "nbconvert_exporter": "python",
   "pygments_lexer": "ipython3",
   "version": "3.11.5"
  }
 },
 "nbformat": 4,
 "nbformat_minor": 5
}
