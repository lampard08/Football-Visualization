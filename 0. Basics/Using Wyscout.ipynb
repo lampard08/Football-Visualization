{
 "cells": [
  {
   "cell_type": "code",
   "execution_count": 1,
   "id": "6c8d4f8a",
   "metadata": {},
   "outputs": [],
   "source": [
    "#importing necessary libraries\n",
    "import pathlib\n",
    "import os\n",
    "import pandas as pd\n",
    "import json"
   ]
  },
  {
   "cell_type": "markdown",
   "id": "92e5a204",
   "metadata": {},
   "source": [
    "## Competition data"
   ]
  },
  {
   "cell_type": "markdown",
   "id": "da3237d0",
   "metadata": {},
   "source": [
    "Download Wyscout data and put it in your working directory first\n",
    "\n",
    "Cite this article when using the dataset: \n",
    "\n",
    "Pappalardo et al., (2019) A public data set of spatio-temporal match events in soccer competitions, Nature Scientific Data 6:236, https://www.nature.com/articles/s41597-019-0247-7\n",
    "\n",
    "Pappalardo et al. (2019) PlayeRank: Data-driven Performance Evaluation and Player Ranking in Soccer via a Machine Learning Approach. ACM Transactions on Intellingent Systems and Technologies (TIST) 10, 5, Article 59 (September 2019), 27 pages. DOI: https://doi.org/10.1145/3343172"
   ]
  },
  {
   "cell_type": "code",
   "execution_count": 5,
   "id": "9a2e97be",
   "metadata": {},
   "outputs": [
    {
     "name": "stdout",
     "output_type": "stream",
     "text": [
      "<class 'pandas.core.frame.DataFrame'>\n",
      "RangeIndex: 7 entries, 0 to 6\n",
      "Data columns (total 5 columns):\n",
      " #   Column  Non-Null Count  Dtype \n",
      "---  ------  --------------  ----- \n",
      " 0   name    7 non-null      object\n",
      " 1   wyId    7 non-null      int64 \n",
      " 2   format  7 non-null      object\n",
      " 3   area    7 non-null      object\n",
      " 4   type    7 non-null      object\n",
      "dtypes: int64(1), object(4)\n",
      "memory usage: 412.0+ bytes\n"
     ]
    }
   ],
   "source": [
    "# path to data\n",
    "# path = os.path.join(str(pathlib.Path().resolve()), 'data', 'Wyscout', 'competitions.json') # put # in front if used locally\n",
    "path = os.path.join(str(pathlib.Path().resolve()), 'Wyscout', 'competitions.json') # delete #\n",
    "\n",
    "# open data\n",
    "with open(path) as f:\n",
    "    data = json.load(f)\n",
    "    #save it in dataframe\n",
    "competitions = pd.DataFrame(data)\n",
    "# structure of data\n",
    "competitions.info()"
   ]
  },
  {
   "cell_type": "markdown",
   "id": "fe738a1a",
   "metadata": {},
   "source": [
    "## Match data"
   ]
  },
  {
   "cell_type": "code",
   "execution_count": 6,
   "id": "d1cbd63f",
   "metadata": {},
   "outputs": [
    {
     "name": "stdout",
     "output_type": "stream",
     "text": [
      "<class 'pandas.core.frame.DataFrame'>\n",
      "RangeIndex: 380 entries, 0 to 379\n",
      "Data columns (total 14 columns):\n",
      " #   Column         Non-Null Count  Dtype \n",
      "---  ------         --------------  ----- \n",
      " 0   status         380 non-null    object\n",
      " 1   roundId        380 non-null    int64 \n",
      " 2   gameweek       380 non-null    int64 \n",
      " 3   teamsData      380 non-null    object\n",
      " 4   seasonId       380 non-null    int64 \n",
      " 5   dateutc        380 non-null    object\n",
      " 6   winner         380 non-null    int64 \n",
      " 7   venue          380 non-null    object\n",
      " 8   wyId           380 non-null    int64 \n",
      " 9   label          380 non-null    object\n",
      " 10  date           380 non-null    object\n",
      " 11  referees       380 non-null    object\n",
      " 12  duration       380 non-null    object\n",
      " 13  competitionId  380 non-null    int64 \n",
      "dtypes: int64(6), object(8)\n",
      "memory usage: 41.7+ KB\n"
     ]
    }
   ],
   "source": [
    "path = os.path.join(str(pathlib.Path().resolve()), 'Wyscout','matches', 'matches_England.json')\n",
    "with open(path) as f:\n",
    "    data = json.load(f)\n",
    "    \n",
    "matches = pd.DataFrame(data)\n",
    "matches.info()"
   ]
  },
  {
   "cell_type": "markdown",
   "id": "af7ca0b6",
   "metadata": {},
   "source": [
    "## Player data"
   ]
  },
  {
   "cell_type": "code",
   "execution_count": 7,
   "id": "73dc2f72",
   "metadata": {},
   "outputs": [
    {
     "name": "stdout",
     "output_type": "stream",
     "text": [
      "<class 'pandas.core.frame.DataFrame'>\n",
      "RangeIndex: 3603 entries, 0 to 3602\n",
      "Data columns (total 14 columns):\n",
      " #   Column                 Non-Null Count  Dtype \n",
      "---  ------                 --------------  ----- \n",
      " 0   passportArea           3603 non-null   object\n",
      " 1   weight                 3603 non-null   int64 \n",
      " 2   firstName              3603 non-null   object\n",
      " 3   middleName             3603 non-null   object\n",
      " 4   lastName               3603 non-null   object\n",
      " 5   currentTeamId          3512 non-null   object\n",
      " 6   birthDate              3603 non-null   object\n",
      " 7   height                 3603 non-null   int64 \n",
      " 8   role                   3603 non-null   object\n",
      " 9   birthArea              3603 non-null   object\n",
      " 10  wyId                   3603 non-null   int64 \n",
      " 11  foot                   3603 non-null   object\n",
      " 12  shortName              3603 non-null   object\n",
      " 13  currentNationalTeamId  3603 non-null   object\n",
      "dtypes: int64(3), object(11)\n",
      "memory usage: 394.2+ KB\n"
     ]
    }
   ],
   "source": [
    "path = os.path.join(str(pathlib.Path().resolve()), 'Wyscout','players.json')\n",
    "\n",
    "with open(path) as f:\n",
    "    data = json.load(f)\n",
    "    \n",
    "players = pd.DataFrame(data)\n",
    "players.info()"
   ]
  },
  {
   "cell_type": "code",
   "execution_count": 10,
   "id": "4b00efc3",
   "metadata": {},
   "outputs": [
    {
     "name": "stdout",
     "output_type": "stream",
     "text": [
      "<class 'pandas.core.frame.DataFrame'>\n",
      "RangeIndex: 643150 entries, 0 to 643149\n",
      "Data columns (total 12 columns):\n",
      " #   Column        Non-Null Count   Dtype  \n",
      "---  ------        --------------   -----  \n",
      " 0   eventId       643150 non-null  int64  \n",
      " 1   subEventName  643150 non-null  object \n",
      " 2   tags          643150 non-null  object \n",
      " 3   playerId      643150 non-null  int64  \n",
      " 4   positions     643150 non-null  object \n",
      " 5   matchId       643150 non-null  int64  \n",
      " 6   eventName     643150 non-null  object \n",
      " 7   teamId        643150 non-null  int64  \n",
      " 8   matchPeriod   643150 non-null  object \n",
      " 9   eventSec      643150 non-null  float64\n",
      " 10  subEventId    643150 non-null  object \n",
      " 11  id            643150 non-null  int64  \n",
      "dtypes: float64(1), int64(5), object(6)\n",
      "memory usage: 58.9+ MB\n"
     ]
    }
   ],
   "source": [
    "path = os.path.join(str(pathlib.Path().resolve()), 'Wyscout','events', 'events_England.json') # delete #\n",
    "with open(path) as f:\n",
    "    data = json.load(f)\n",
    "events = pd.DataFrame(data)\n",
    "events.info()"
   ]
  },
  {
   "cell_type": "code",
   "execution_count": null,
   "id": "4ce5b1b4",
   "metadata": {},
   "outputs": [],
   "source": []
  }
 ],
 "metadata": {
  "kernelspec": {
   "display_name": "base",
   "language": "python",
   "name": "python3"
  },
  "language_info": {
   "codemirror_mode": {
    "name": "ipython",
    "version": 3
   },
   "file_extension": ".py",
   "mimetype": "text/x-python",
   "name": "python",
   "nbconvert_exporter": "python",
   "pygments_lexer": "ipython3",
   "version": "3.11.5"
  }
 },
 "nbformat": 4,
 "nbformat_minor": 5
}
