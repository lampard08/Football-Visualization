{
 "cells": [
  {
   "cell_type": "markdown",
   "id": "02aa7a0f",
   "metadata": {
    "toc": true
   },
   "source": [
    "<h1>目录<span class=\"tocSkip\"></span></h1>\n",
    "<div class=\"toc\"><ul class=\"toc-item\"><li><span><a href=\"#Parse-the-HTML\" data-toc-modified-id=\"Parse-the-HTML-1\">Parse the HTML</a></span></li><li><span><a href=\"#Get-all-the-team-names\" data-toc-modified-id=\"Get-all-the-team-names-2\">Get all the team names</a></span></li><li><span><a href=\"#Get-the-headers\" data-toc-modified-id=\"Get-the-headers-3\">Get the headers</a></span></li><li><span><a href=\"#Get-all-the-data\" data-toc-modified-id=\"Get-all-the-data-4\">Get all the data</a></span></li><li><span><a href=\"#Wrap-the-data-all-in-one-DataFrame\" data-toc-modified-id=\"Wrap-the-data-all-in-one-DataFrame-5\">Wrap the data all in one DataFrame</a></span></li></ul></div>"
   ]
  },
  {
   "cell_type": "markdown",
   "id": "98c8e6ff",
   "metadata": {},
   "source": [
    "## Parse the HTML"
   ]
  },
  {
   "cell_type": "code",
   "execution_count": 46,
   "id": "ef3efea6",
   "metadata": {},
   "outputs": [],
   "source": [
    "from bs4 import BeautifulSoup\n",
    "import requests\n",
    "import pandas as pd\n",
    "import re"
   ]
  },
  {
   "cell_type": "code",
   "execution_count": 3,
   "id": "8d7c6501",
   "metadata": {},
   "outputs": [],
   "source": [
    "url = 'https://fbref.com/en/comps/9/2020-2021/stats/2020-2021-Premier-League-Stats'"
   ]
  },
  {
   "cell_type": "code",
   "execution_count": 11,
   "id": "7908f05c",
   "metadata": {},
   "outputs": [],
   "source": [
    "page = requests.get(url)\n",
    "soup = BeautifulSoup(page.text,'html.parser')"
   ]
  },
  {
   "cell_type": "code",
   "execution_count": 31,
   "id": "25c61683",
   "metadata": {},
   "outputs": [],
   "source": [
    "table = soup.find_all('table')[0]"
   ]
  },
  {
   "cell_type": "code",
   "execution_count": 32,
   "id": "cf90fc04",
   "metadata": {
    "collapsed": true
   },
   "outputs": [
    {
     "name": "stdout",
     "output_type": "stream",
     "text": [
      "<table class=\"stats_table sortable min_width\" data-cols-to-freeze=\",1\" id=\"stats_squads_standard_for\"> <caption>Squad Standard Stats <span style=\"color: #666; font-size:smaller\">2020-2021 Premier League</span> Table</caption> <colgroup><col/><col/><col/><col/><col/><col/><col/><col/><col/><col/><col/><col/><col/><col/><col/><col/><col/><col/><col/><col/><col/><col/><col/><col/><col/><col/><col/><col/><col/><col/><col/><col/></colgroup> <thead> <tr class=\"over_header\"> <th aria-label=\"\" class=\"over_header center\" colspan=\"4\" data-stat=\"\"></th> <th aria-label=\"\" class=\"over_header center group_start\" colspan=\"4\" data-stat=\"header_playing\">Playing Time</th> <th aria-label=\"\" class=\"over_header center group_start\" colspan=\"8\" data-stat=\"header_performance\">Performance</th> <th aria-label=\"\" class=\"over_header center group_start\" colspan=\"4\" data-stat=\"header_expected\">Expected</th> <th aria-label=\"\" class=\"over_header center group_start\" colspan=\"2\" data-stat=\"header_progression\">Progression</th> <th aria-label=\"\" class=\"over_header center group_start\" colspan=\"10\" data-stat=\"header_per90\">Per 90 Minutes</th> </tr> <tr> <th aria-label=\"Squad\" class=\"poptip sort_default_asc center\" data-stat=\"team\" scope=\"col\">Squad</th> <th aria-label=\"# of Players\" class=\"poptip center\" data-stat=\"players_used\" data-tip=\"&lt;strong&gt;# of Players&lt;/strong&gt;&lt;br&gt;Number of Players used in Games\" scope=\"col\"># Pl</th> <th aria-label=\"Average Age\" class=\"poptip sort_default_asc center\" data-stat=\"avg_age\" data-tip=\"&lt;strong&gt;Average Age&lt;/strong&gt;&lt;br&gt;Age is weighted by minutes played\" scope=\"col\">Age</th> <th aria-label=\"Possession\" class=\"poptip center\" data-stat=\"possession\" data-tip=\"&lt;strong&gt;Possession&lt;/strong&gt;&lt;br&gt;&lt;strong&gt;Possession&lt;/strong&gt;&lt;br&gt;Calculated as the percentage of passes attempted\" scope=\"col\">Poss</th> <th aria-label=\"Matches Played\" class=\"poptip center group_start\" data-over-header=\"Playing Time\" data-stat=\"games\" data-tip=\"&lt;strong&gt;Matches Played&lt;/strong&gt;&lt;br&gt;Matches Played by the player or squad\" scope=\"col\">MP</th> <th aria-label=\"Starts\" class=\"poptip center\" data-over-header=\"Playing Time\" data-stat=\"games_starts\" data-tip=\"Game or games started by player\" scope=\"col\">Starts</th> <th aria-label=\"Minutes\" class=\"poptip center\" data-over-header=\"Playing Time\" data-stat=\"minutes\" data-tip=\"&lt;strong&gt;Minutes&lt;/strong&gt;&lt;br&gt;\" scope=\"col\">Min</th> <th aria-label=\"90s Played\" class=\"poptip center\" data-over-header=\"Playing Time\" data-stat=\"minutes_90s\" data-tip=\"&lt;strong&gt;90s Played&lt;/strong&gt;&lt;br&gt;&lt;strong&gt;90s played&lt;/strong&gt;&lt;br&gt;Minutes played divided by 90\" scope=\"col\">90s</th> <th aria-label=\"Goals\" class=\"poptip center group_start\" data-over-header=\"Performance\" data-stat=\"goals\" data-tip=\"&lt;strong&gt;Goals&lt;/strong&gt;&lt;br&gt;Goals scored or allowed\" scope=\"col\">Gls</th> <th aria-label=\"Assists\" class=\"poptip center\" data-over-header=\"Performance\" data-stat=\"assists\" data-tip=\"&lt;strong&gt;Assists&lt;/strong&gt;&lt;br&gt;Assists\" scope=\"col\">Ast</th> <th aria-label=\"Goals + Assists\" class=\"poptip center\" data-over-header=\"Performance\" data-stat=\"goals_assists\" data-tip=\"&lt;strong&gt;Goals + Assists&lt;/strong&gt;&lt;br&gt;Goals and Assists\" scope=\"col\">G+A</th> <th aria-label=\"Non-Penalty Goals\" class=\"poptip center\" data-over-header=\"Performance\" data-stat=\"goals_pens\" data-tip=\"&lt;strong&gt;Non-Penalty Goals&lt;/strong&gt;&lt;br&gt;Non-Penalty Goals\" scope=\"col\">G-PK</th> <th aria-label=\"Penalty Kicks Made\" class=\"poptip center\" data-over-header=\"Performance\" data-stat=\"pens_made\" data-tip=\"&lt;strong&gt;Penalty Kicks Made&lt;/strong&gt;&lt;br&gt;Penalty Kicks Made\" scope=\"col\">PK</th> <th aria-label=\"Penalty Kicks Attempted\" class=\"poptip center\" data-over-header=\"Performance\" data-stat=\"pens_att\" data-tip=\"&lt;strong&gt;Penalty Kicks Attempted&lt;/strong&gt;&lt;br&gt;Penalty Kicks Attempted\" scope=\"col\">PKatt</th> <th aria-label=\"Yellow Cards\" class=\"poptip center\" data-over-header=\"Performance\" data-stat=\"cards_yellow\" data-tip=\"&lt;strong&gt;Yellow Cards&lt;/strong&gt;&lt;br&gt;Yellow Cards\" scope=\"col\">CrdY</th> <th aria-label=\"Red Cards\" class=\"poptip center\" data-over-header=\"Performance\" data-stat=\"cards_red\" data-tip=\"&lt;strong&gt;Red Cards&lt;/strong&gt;&lt;br&gt;Red Cards\" scope=\"col\">CrdR</th> <th aria-label=\"xG\" class=\"poptip center group_start\" data-filter=\"1\" data-name=\"xG\" data-over-header=\"Expected\" data-stat=\"xg\" data-tip=\"Expected Goals&lt;br&gt;xG totals include penalty kicks, but do not include penalty shootouts (unless otherwise noted).&lt;br&gt;Provided by Opta.&lt;br&gt;An underline indicates there is a match that is missing data, but will be updated when available.\" scope=\"col\">xG</th> <th aria-label=\"Non-Penalty xG\" class=\"poptip center\" data-filter=\"1\" data-name=\"Non-Penalty xG\" data-over-header=\"Expected\" data-stat=\"npxg\" data-tip=\"&lt;strong&gt;Non-Penalty xG&lt;/strong&gt;&lt;br&gt;&lt;strong&gt;Non-Penalty Expected Goals&lt;/strong&gt;&lt;br&gt;Provided by Opta.&lt;br&gt;An underline indicates there is a match that is missing data, but will be updated when available.\" scope=\"col\">npxG</th> <th aria-label=\"xAG\" class=\"poptip center\" data-filter=\"1\" data-name=\"xAG\" data-over-header=\"Expected\" data-stat=\"xg_assist\" data-tip=\"&lt;strong&gt;Expected Assisted Goals&lt;/strong&gt;&lt;br&gt;xG which follows a pass that assists a shot&lt;br&gt;Provided by Opta.&lt;br&gt;An underline indicates there is a match that is missing data, but will be updated when available.\" scope=\"col\">xAG</th> <th aria-label=\"npxG + xAG\" class=\"poptip center\" data-over-header=\"Expected\" data-stat=\"npxg_xg_assist\" data-tip=\"&lt;strong&gt;npxG + xAG&lt;/strong&gt;&lt;br&gt;Non-Penalty Expected Goals plus Assisted Goals&lt;br&gt;xG totals include penalty kicks, but do not include penalty shootouts (unless otherwise noted).&lt;br&gt;Provided by Opta.&lt;br&gt;An underline indicates there is a match that is missing data, but will be updated when available.&lt;br&gt;Minimum 30 minutes played per squad game to qualify as a leader\" scope=\"col\">npxG+xAG</th> <th aria-label=\"Progressive Carries\" class=\"poptip center group_start\" data-over-header=\"Progression\" data-stat=\"progressive_carries\" data-tip=\"&lt;strong&gt;Progressive Carries&lt;/strong&gt;&lt;br&gt;Carries that move the ball towards the opponent's goal line at least 10 yards from its furthest point in the last six passes, or any carry into the penalty area. Excludes carries which end in the defending 50% of the pitch\" scope=\"col\">PrgC</th> <th aria-label=\"Progressive Passes\" class=\"poptip center\" data-over-header=\"Progression\" data-stat=\"progressive_passes\" data-tip=\"&lt;strong&gt;Progressive Passes&lt;/strong&gt;&lt;br&gt;Progressive Passes&lt;br&gt;Completed passes that move the ball towards the opponent's goal line at least 10 yards from its furthest point in the last six passes, or any completed pass into the penalty area. Excludes passes from the defending 40% of the pitch\" scope=\"col\">PrgP</th> <th aria-label=\"Goals/90\" class=\"poptip hide_non_quals center group_start\" data-filter=\"1\" data-name=\"Goals/90\" data-over-header=\"Per 90 Minutes\" data-stat=\"goals_per90\" data-tip=\"&lt;strong&gt;Goals/90&lt;/strong&gt;&lt;br&gt;Goals Scored per 90 minutes&lt;br&gt;Minimum 30 minutes played per squad game to qualify as a leader\" scope=\"col\">Gls</th> <th aria-label=\"Assists/90\" class=\"poptip hide_non_quals center\" data-filter=\"1\" data-name=\"Assists/90\" data-over-header=\"Per 90 Minutes\" data-stat=\"assists_per90\" data-tip=\"&lt;strong&gt;Assists/90&lt;/strong&gt;&lt;br&gt;Assists per 90 minutes&lt;br&gt;Minimum 30 minutes played per squad game to qualify as a leader\" scope=\"col\">Ast</th> <th aria-label=\"Goals + Assists/90\" class=\"poptip hide_non_quals center\" data-filter=\"1\" data-name=\"Goals + Assists/90\" data-over-header=\"Per 90 Minutes\" data-stat=\"goals_assists_per90\" data-tip=\"&lt;strong&gt;Goals + Assists/90&lt;/strong&gt;&lt;br&gt;Goals and Assists per 90 minutes&lt;br&gt;Minimum 30 minutes played per squad game to qualify as a leader\" scope=\"col\">G+A</th> <th aria-label=\"Non-Penalty Goals/90\" class=\"poptip hide_non_quals center\" data-filter=\"1\" data-name=\"Non-Penalty Goals/90\" data-over-header=\"Per 90 Minutes\" data-stat=\"goals_pens_per90\" data-tip=\"&lt;strong&gt;Non-Penalty Goals/90&lt;/strong&gt;&lt;br&gt;Goals minus Penalty Kicks made per 90 minutes&lt;br&gt;Minimum 30 minutes played per squad game to qualify as a leader\" scope=\"col\">G-PK</th> <th aria-label=\"Non-Penalty Goals + Assists/90\" class=\"poptip hide_non_quals center\" data-filter=\"1\" data-name=\"Non-Penalty Goals + Assists/90\" data-over-header=\"Per 90 Minutes\" data-stat=\"goals_assists_pens_per90\" data-tip=\"&lt;strong&gt;Non-Penalty Goals + Assists/90&lt;/strong&gt;&lt;br&gt;Goals plus Assists minus Penalty Kicks made per 90 minutes&lt;br&gt;Minimum 30 minutes played per squad game to qualify as a leader\" scope=\"col\">G+A-PK</th> <th aria-label=\"xG/90\" class=\"poptip hide_non_quals center group_start\" data-filter=\"1\" data-name=\"xG/90\" data-over-header=\"Per 90 Minutes\" data-stat=\"xg_per90\" data-tip=\"&lt;strong&gt;xG/90&lt;/strong&gt;&lt;br&gt;Expected Goals per 90 minutes&lt;br&gt;xG totals include penalty kicks, but do not include penalty shootouts (unless otherwise noted).&lt;br&gt;Provided by Opta.&lt;br&gt;An underline indicates there is a match that is missing data, but will be updated when available.&lt;br&gt;Minimum 30 minutes played per squad game to qualify as a leader\" scope=\"col\">xG</th> <th aria-label=\"xAG/90\" class=\"poptip hide_non_quals center\" data-filter=\"1\" data-name=\"xAG/90\" data-over-header=\"Per 90 Minutes\" data-stat=\"xg_assist_per90\" data-tip=\"&lt;strong&gt;xAG/90&lt;/strong&gt;&lt;br&gt;Expected Assisted Goals per 90 minutes&lt;br&gt;Provided by Opta.&lt;br&gt;An underline indicates there is a match that is missing data, but will be updated when available.&lt;br&gt;Minimum 30 minutes played per squad game to qualify as a leader\" scope=\"col\">xAG</th> <th aria-label=\"xG + xAG/90\" class=\"poptip hide_non_quals center\" data-over-header=\"Per 90 Minutes\" data-stat=\"xg_xg_assist_per90\" data-tip=\"&lt;strong&gt;xG + xAG/90&lt;/strong&gt;&lt;br&gt;Expected Goals plus Assisted Goals per 90 minutes&lt;br&gt;xG totals include penalty kicks, but do not include penalty shootouts (unless otherwise noted).&lt;br&gt;Provided by Opta.&lt;br&gt;An underline indicates there is a match that is missing data, but will be updated when available.&lt;br&gt;Minimum 30 minutes played per squad game to qualify as a leader\" scope=\"col\">xG+xAG</th> <th aria-label=\"npxG/90\" class=\"poptip hide_non_quals center\" data-filter=\"1\" data-name=\"npxG/90\" data-over-header=\"Per 90 Minutes\" data-stat=\"npxg_per90\" data-tip=\"&lt;strong&gt;npxG/90&lt;/strong&gt;&lt;br&gt;Non-Penalty Expected Goals per 90 minutes&lt;br&gt;Provided by Opta.&lt;br&gt;An underline indicates there is a match that is missing data, but will be updated when available.&lt;br&gt;Minimum 30 minutes played per squad game to qualify as a leader\" scope=\"col\">npxG</th> <th aria-label=\"npxG + xAG\" class=\"poptip hide_non_quals center\" data-over-header=\"Per 90 Minutes\" data-stat=\"npxg_xg_assist_per90\" data-tip=\"&lt;strong&gt;npxG + xAG&lt;/strong&gt;&lt;br&gt;Non-Penalty Expected Goals plus Assisted Goals per 90 minutes&lt;br&gt;Provided by Opta.&lt;br&gt;An underline indicates there is a match that is missing data, but will be updated when available.&lt;br&gt;Minimum 30 minutes played per squad game to qualify as a leader\" scope=\"col\">npxG+xAG</th> </tr> </thead> <tbody> <tr><th class=\"left\" data-stat=\"team\" scope=\"row\"><a href=\"/en/squads/18bb7c10/2020-2021/Arsenal-Stats\">Arsenal</a></th><td class=\"right\" data-stat=\"players_used\">29</td><td class=\"center\" data-stat=\"avg_age\">25.9</td><td class=\"center\" data-stat=\"possession\">53.5</td><td class=\"right group_start\" data-stat=\"games\">38</td><td class=\"right\" data-stat=\"games_starts\">418</td><td class=\"right\" csk=\"3420\" data-stat=\"minutes\">3,420</td><td class=\"right\" data-stat=\"minutes_90s\">38.0</td><td class=\"right group_start\" data-stat=\"goals\">53</td><td class=\"right\" data-stat=\"assists\">38</td><td class=\"right\" data-stat=\"goals_assists\">91</td><td class=\"right\" data-stat=\"goals_pens\">47</td><td class=\"right\" data-stat=\"pens_made\">6</td><td class=\"right\" data-stat=\"pens_att\">6</td><td class=\"right\" data-stat=\"cards_yellow\">49</td><td class=\"right\" data-stat=\"cards_red\">5</td><td class=\"right group_start\" data-stat=\"xg\">51.8</td><td class=\"right\" data-stat=\"npxg\">47.0</td><td class=\"right\" data-stat=\"xg_assist\">35.1</td><td class=\"right\" data-stat=\"npxg_xg_assist\">82.1</td><td class=\"right group_start\" data-stat=\"progressive_carries\">758</td><td class=\"right\" data-stat=\"progressive_passes\">1760</td><td class=\"right group_start\" data-stat=\"goals_per90\">1.39</td><td class=\"right\" data-stat=\"assists_per90\">1.00</td><td class=\"right\" data-stat=\"goals_assists_per90\">2.39</td><td class=\"right\" data-stat=\"goals_pens_per90\">1.24</td><td class=\"right\" data-stat=\"goals_assists_pens_per90\">2.24</td><td class=\"right group_start\" data-stat=\"xg_per90\">1.36</td><td class=\"right\" data-stat=\"xg_assist_per90\">0.92</td><td class=\"right\" data-stat=\"xg_xg_assist_per90\">2.29</td><td class=\"right\" data-stat=\"npxg_per90\">1.24</td><td class=\"right\" data-stat=\"npxg_xg_assist_per90\">2.16</td></tr> <tr><th class=\"left\" data-stat=\"team\" scope=\"row\"><a href=\"/en/squads/8602292d/2020-2021/Aston-Villa-Stats\">Aston Villa</a></th><td class=\"right\" data-stat=\"players_used\">24</td><td class=\"center\" data-stat=\"avg_age\">25.2</td><td class=\"center\" data-stat=\"possession\">48.5</td><td class=\"right group_start\" data-stat=\"games\">38</td><td class=\"right\" data-stat=\"games_starts\">418</td><td class=\"right\" csk=\"3420\" data-stat=\"minutes\">3,420</td><td class=\"right\" data-stat=\"minutes_90s\">38.0</td><td class=\"right group_start\" data-stat=\"goals\">52</td><td class=\"right\" data-stat=\"assists\">38</td><td class=\"right\" data-stat=\"goals_assists\">90</td><td class=\"right\" data-stat=\"goals_pens\">47</td><td class=\"right\" data-stat=\"pens_made\">5</td><td class=\"right\" data-stat=\"pens_att\">6</td><td class=\"right\" data-stat=\"cards_yellow\">71</td><td class=\"right\" data-stat=\"cards_red\">4</td><td class=\"right group_start\" data-stat=\"xg\">52.5</td><td class=\"right\" data-stat=\"npxg\">47.9</td><td class=\"right\" data-stat=\"xg_assist\">37.4</td><td class=\"right\" data-stat=\"npxg_xg_assist\">85.3</td><td class=\"right group_start\" data-stat=\"progressive_carries\">629</td><td class=\"right\" data-stat=\"progressive_passes\">1420</td><td class=\"right group_start\" data-stat=\"goals_per90\">1.37</td><td class=\"right\" data-stat=\"assists_per90\">1.00</td><td class=\"right\" data-stat=\"goals_assists_per90\">2.37</td><td class=\"right\" data-stat=\"goals_pens_per90\">1.24</td><td class=\"right\" data-stat=\"goals_assists_pens_per90\">2.24</td><td class=\"right group_start\" data-stat=\"xg_per90\">1.38</td><td class=\"right\" data-stat=\"xg_assist_per90\">0.98</td><td class=\"right\" data-stat=\"xg_xg_assist_per90\">2.37</td><td class=\"right\" data-stat=\"npxg_per90\">1.26</td><td class=\"right\" data-stat=\"npxg_xg_assist_per90\">2.25</td></tr> <tr><th class=\"left\" data-stat=\"team\" scope=\"row\"><a href=\"/en/squads/d07537b9/2020-2021/Brighton-and-Hove-Albion-Stats\">Brighton</a></th><td class=\"right\" data-stat=\"players_used\">27</td><td class=\"center\" data-stat=\"avg_age\">25.8</td><td class=\"center\" data-stat=\"possession\">51.1</td><td class=\"right group_start\" data-stat=\"games\">38</td><td class=\"right\" data-stat=\"games_starts\">418</td><td class=\"right\" csk=\"3420\" data-stat=\"minutes\">3,420</td><td class=\"right\" data-stat=\"minutes_90s\">38.0</td><td class=\"right group_start\" data-stat=\"goals\">39</td><td class=\"right\" data-stat=\"assists\">24</td><td class=\"right\" data-stat=\"goals_assists\">63</td><td class=\"right\" data-stat=\"goals_pens\">33</td><td class=\"right\" data-stat=\"pens_made\">6</td><td class=\"right\" data-stat=\"pens_att\">9</td><td class=\"right\" data-stat=\"cards_yellow\">49</td><td class=\"right\" data-stat=\"cards_red\">6</td><td class=\"right group_start\" data-stat=\"xg\">50.9</td><td class=\"right\" data-stat=\"npxg\">43.8</td><td class=\"right\" data-stat=\"xg_assist\">33.2</td><td class=\"right\" data-stat=\"npxg_xg_assist\">77.0</td><td class=\"right group_start\" data-stat=\"progressive_carries\">685</td><td class=\"right\" data-stat=\"progressive_passes\">1516</td><td class=\"right group_start\" data-stat=\"goals_per90\">1.03</td><td class=\"right\" data-stat=\"assists_per90\">0.63</td><td class=\"right\" data-stat=\"goals_assists_per90\">1.66</td><td class=\"right\" data-stat=\"goals_pens_per90\">0.87</td><td class=\"right\" data-stat=\"goals_assists_pens_per90\">1.50</td><td class=\"right group_start\" data-stat=\"xg_per90\">1.34</td><td class=\"right\" data-stat=\"xg_assist_per90\">0.87</td><td class=\"right\" data-stat=\"xg_xg_assist_per90\">2.21</td><td class=\"right\" data-stat=\"npxg_per90\">1.15</td><td class=\"right\" data-stat=\"npxg_xg_assist_per90\">2.03</td></tr> <tr><th class=\"left\" data-stat=\"team\" scope=\"row\"><a href=\"/en/squads/943e8050/2020-2021/Burnley-Stats\">Burnley</a></th><td class=\"right\" data-stat=\"players_used\">25</td><td class=\"center\" data-stat=\"avg_age\">28.3</td><td class=\"center\" data-stat=\"possession\">42.1</td><td class=\"right group_start\" data-stat=\"games\">38</td><td class=\"right\" data-stat=\"games_starts\">418</td><td class=\"right\" csk=\"3420\" data-stat=\"minutes\">3,420</td><td class=\"right\" data-stat=\"minutes_90s\">38.0</td><td class=\"right group_start\" data-stat=\"goals\">32</td><td class=\"right\" data-stat=\"assists\">20</td><td class=\"right\" data-stat=\"goals_assists\">52</td><td class=\"right\" data-stat=\"goals_pens\">29</td><td class=\"right\" data-stat=\"pens_made\">3</td><td class=\"right\" data-stat=\"pens_att\">3</td><td class=\"right\" data-stat=\"cards_yellow\">48</td><td class=\"right iz\" data-stat=\"cards_red\">0</td><td class=\"right group_start\" data-stat=\"xg\">39.3</td><td class=\"right\" data-stat=\"npxg\">36.9</td><td class=\"right\" data-stat=\"xg_assist\">27.7</td><td class=\"right\" data-stat=\"npxg_xg_assist\">64.6</td><td class=\"right group_start\" data-stat=\"progressive_carries\">389</td><td class=\"right\" data-stat=\"progressive_passes\">1012</td><td class=\"right group_start\" data-stat=\"goals_per90\">0.84</td><td class=\"right\" data-stat=\"assists_per90\">0.53</td><td class=\"right\" data-stat=\"goals_assists_per90\">1.37</td><td class=\"right\" data-stat=\"goals_pens_per90\">0.76</td><td class=\"right\" data-stat=\"goals_assists_pens_per90\">1.29</td><td class=\"right group_start\" data-stat=\"xg_per90\">1.03</td><td class=\"right\" data-stat=\"xg_assist_per90\">0.73</td><td class=\"right\" data-stat=\"xg_xg_assist_per90\">1.76</td><td class=\"right\" data-stat=\"npxg_per90\">0.97</td><td class=\"right\" data-stat=\"npxg_xg_assist_per90\">1.70</td></tr> <tr><th class=\"left\" data-stat=\"team\" scope=\"row\"><a href=\"/en/squads/cff3d9bb/2020-2021/Chelsea-Stats\">Chelsea</a></th><td class=\"right\" data-stat=\"players_used\">27</td><td class=\"center\" data-stat=\"avg_age\">26.0</td><td class=\"center\" data-stat=\"possession\">60.9</td><td class=\"right group_start\" data-stat=\"games\">38</td><td class=\"right\" data-stat=\"games_starts\">418</td><td class=\"right\" csk=\"3420\" data-stat=\"minutes\">3,420</td><td class=\"right\" data-stat=\"minutes_90s\">38.0</td><td class=\"right group_start\" data-stat=\"goals\">56</td><td class=\"right\" data-stat=\"assists\">38</td><td class=\"right\" data-stat=\"goals_assists\">94</td><td class=\"right\" data-stat=\"goals_pens\">48</td><td class=\"right\" data-stat=\"pens_made\">8</td><td class=\"right\" data-stat=\"pens_att\">10</td><td class=\"right\" data-stat=\"cards_yellow\">51</td><td class=\"right\" data-stat=\"cards_red\">3</td><td class=\"right group_start\" data-stat=\"xg\">62.4</td><td class=\"right\" data-stat=\"npxg\">54.5</td><td class=\"right\" data-stat=\"xg_assist\">41.5</td><td class=\"right\" data-stat=\"npxg_xg_assist\">96.1</td><td class=\"right group_start\" data-stat=\"progressive_carries\">895</td><td class=\"right\" data-stat=\"progressive_passes\">1798</td><td class=\"right group_start\" data-stat=\"goals_per90\">1.47</td><td class=\"right\" data-stat=\"assists_per90\">1.00</td><td class=\"right\" data-stat=\"goals_assists_per90\">2.47</td><td class=\"right\" data-stat=\"goals_pens_per90\">1.26</td><td class=\"right\" data-stat=\"goals_assists_pens_per90\">2.26</td><td class=\"right group_start\" data-stat=\"xg_per90\">1.64</td><td class=\"right\" data-stat=\"xg_assist_per90\">1.09</td><td class=\"right\" data-stat=\"xg_xg_assist_per90\">2.74</td><td class=\"right\" data-stat=\"npxg_per90\">1.44</td><td class=\"right\" data-stat=\"npxg_xg_assist_per90\">2.53</td></tr> <tr><th class=\"left\" data-stat=\"team\" scope=\"row\"><a href=\"/en/squads/47c64c55/2020-2021/Crystal-Palace-Stats\">Crystal Palace</a></th><td class=\"right\" data-stat=\"players_used\">24</td><td class=\"center\" data-stat=\"avg_age\">29.1</td><td class=\"center\" data-stat=\"possession\">40.6</td><td class=\"right group_start\" data-stat=\"games\">38</td><td class=\"right\" data-stat=\"games_starts\">418</td><td class=\"right\" csk=\"3420\" data-stat=\"minutes\">3,420</td><td class=\"right\" data-stat=\"minutes_90s\">38.0</td><td class=\"right group_start\" data-stat=\"goals\">39</td><td class=\"right\" data-stat=\"assists\">29</td><td class=\"right\" data-stat=\"goals_assists\">68</td><td class=\"right\" data-stat=\"goals_pens\">36</td><td class=\"right\" data-stat=\"pens_made\">3</td><td class=\"right\" data-stat=\"pens_att\">4</td><td class=\"right\" data-stat=\"cards_yellow\">56</td><td class=\"right\" data-stat=\"cards_red\">2</td><td class=\"right group_start\" data-stat=\"xg\">34.1</td><td class=\"right\" data-stat=\"npxg\">31.0</td><td class=\"right\" data-stat=\"xg_assist\">23.6</td><td class=\"right\" data-stat=\"npxg_xg_assist\">54.6</td><td class=\"right group_start\" data-stat=\"progressive_carries\">526</td><td class=\"right\" data-stat=\"progressive_passes\">1132</td><td class=\"right group_start\" data-stat=\"goals_per90\">1.03</td><td class=\"right\" data-stat=\"assists_per90\">0.76</td><td class=\"right\" data-stat=\"goals_assists_per90\">1.79</td><td class=\"right\" data-stat=\"goals_pens_per90\">0.95</td><td class=\"right\" data-stat=\"goals_assists_pens_per90\">1.71</td><td class=\"right group_start\" data-stat=\"xg_per90\">0.90</td><td class=\"right\" data-stat=\"xg_assist_per90\">0.62</td><td class=\"right\" data-stat=\"xg_xg_assist_per90\">1.52</td><td class=\"right\" data-stat=\"npxg_per90\">0.82</td><td class=\"right\" data-stat=\"npxg_xg_assist_per90\">1.44</td></tr> <tr><th class=\"left\" data-stat=\"team\" scope=\"row\"><a href=\"/en/squads/d3fd31cc/2020-2021/Everton-Stats\">Everton</a></th><td class=\"right\" data-stat=\"players_used\">29</td><td class=\"center\" data-stat=\"avg_age\">26.3</td><td class=\"center\" data-stat=\"possession\">46.4</td><td class=\"right group_start\" data-stat=\"games\">38</td><td class=\"right\" data-stat=\"games_starts\">418</td><td class=\"right\" csk=\"3420\" data-stat=\"minutes\">3,420</td><td class=\"right\" data-stat=\"minutes_90s\">38.0</td><td class=\"right group_start\" data-stat=\"goals\">45</td><td class=\"right\" data-stat=\"assists\">32</td><td class=\"right\" data-stat=\"goals_assists\">77</td><td class=\"right\" data-stat=\"goals_pens\">41</td><td class=\"right\" data-stat=\"pens_made\">4</td><td class=\"right\" data-stat=\"pens_att\">5</td><td class=\"right\" data-stat=\"cards_yellow\">59</td><td class=\"right\" data-stat=\"cards_red\">2</td><td class=\"right group_start\" data-stat=\"xg\">45.7</td><td class=\"right\" data-stat=\"npxg\">41.9</td><td class=\"right\" data-stat=\"xg_assist\">30.7</td><td class=\"right\" data-stat=\"npxg_xg_assist\">72.6</td><td class=\"right group_start\" data-stat=\"progressive_carries\">604</td><td class=\"right\" data-stat=\"progressive_passes\">1184</td><td class=\"right group_start\" data-stat=\"goals_per90\">1.18</td><td class=\"right\" data-stat=\"assists_per90\">0.84</td><td class=\"right\" data-stat=\"goals_assists_per90\">2.03</td><td class=\"right\" data-stat=\"goals_pens_per90\">1.08</td><td class=\"right\" data-stat=\"goals_assists_pens_per90\">1.92</td><td class=\"right group_start\" data-stat=\"xg_per90\">1.20</td><td class=\"right\" data-stat=\"xg_assist_per90\">0.81</td><td class=\"right\" data-stat=\"xg_xg_assist_per90\">2.01</td><td class=\"right\" data-stat=\"npxg_per90\">1.10</td><td class=\"right\" data-stat=\"npxg_xg_assist_per90\">1.91</td></tr> <tr><th class=\"left\" data-stat=\"team\" scope=\"row\"><a href=\"/en/squads/fd962109/2020-2021/Fulham-Stats\">Fulham</a></th><td class=\"right\" data-stat=\"players_used\">28</td><td class=\"center\" data-stat=\"avg_age\">25.2</td><td class=\"center\" data-stat=\"possession\">49.7</td><td class=\"right group_start\" data-stat=\"games\">38</td><td class=\"right\" data-stat=\"games_starts\">418</td><td class=\"right\" csk=\"3420\" data-stat=\"minutes\">3,420</td><td class=\"right\" data-stat=\"minutes_90s\">38.0</td><td class=\"right group_start\" data-stat=\"goals\">26</td><td class=\"right\" data-stat=\"assists\">18</td><td class=\"right\" data-stat=\"goals_assists\">44</td><td class=\"right\" data-stat=\"goals_pens\">23</td><td class=\"right\" data-stat=\"pens_made\">3</td><td class=\"right\" data-stat=\"pens_att\">6</td><td class=\"right\" data-stat=\"cards_yellow\">67</td><td class=\"right\" data-stat=\"cards_red\">3</td><td class=\"right group_start\" data-stat=\"xg\">40.5</td><td class=\"right\" data-stat=\"npxg\">35.9</td><td class=\"right\" data-stat=\"xg_assist\">26.3</td><td class=\"right\" data-stat=\"npxg_xg_assist\">62.2</td><td class=\"right group_start\" data-stat=\"progressive_carries\">727</td><td class=\"right\" data-stat=\"progressive_passes\">1354</td><td class=\"right group_start\" data-stat=\"goals_per90\">0.68</td><td class=\"right\" data-stat=\"assists_per90\">0.47</td><td class=\"right\" data-stat=\"goals_assists_per90\">1.16</td><td class=\"right\" data-stat=\"goals_pens_per90\">0.61</td><td class=\"right\" data-stat=\"goals_assists_pens_per90\">1.08</td><td class=\"right group_start\" data-stat=\"xg_per90\">1.07</td><td class=\"right\" data-stat=\"xg_assist_per90\">0.69</td><td class=\"right\" data-stat=\"xg_xg_assist_per90\">1.76</td><td class=\"right\" data-stat=\"npxg_per90\">0.95</td><td class=\"right\" data-stat=\"npxg_xg_assist_per90\">1.64</td></tr> <tr><th class=\"left\" data-stat=\"team\" scope=\"row\"><a href=\"/en/squads/5bfb9659/2020-2021/Leeds-United-Stats\">Leeds United</a></th><td class=\"right\" data-stat=\"players_used\">23</td><td class=\"center\" data-stat=\"avg_age\">26.1</td><td class=\"center\" data-stat=\"possession\">57.3</td><td class=\"right group_start\" data-stat=\"games\">38</td><td class=\"right\" data-stat=\"games_starts\">418</td><td class=\"right\" csk=\"3420\" data-stat=\"minutes\">3,420</td><td class=\"right\" data-stat=\"minutes_90s\">38.0</td><td class=\"right group_start\" data-stat=\"goals\">60</td><td class=\"right\" data-stat=\"assists\">45</td><td class=\"right\" data-stat=\"goals_assists\">105</td><td class=\"right\" data-stat=\"goals_pens\">56</td><td class=\"right\" data-stat=\"pens_made\">4</td><td class=\"right\" data-stat=\"pens_att\">4</td><td class=\"right\" data-stat=\"cards_yellow\">61</td><td class=\"right\" data-stat=\"cards_red\">1</td><td class=\"right group_start\" data-stat=\"xg\">55.6</td><td class=\"right\" data-stat=\"npxg\">52.5</td><td class=\"right\" data-stat=\"xg_assist\">41.9</td><td class=\"right\" data-stat=\"npxg_xg_assist\">94.3</td><td class=\"right group_start\" data-stat=\"progressive_carries\">811</td><td class=\"right\" data-stat=\"progressive_passes\">1633</td><td class=\"right group_start\" data-stat=\"goals_per90\">1.58</td><td class=\"right\" data-stat=\"assists_per90\">1.18</td><td class=\"right\" data-stat=\"goals_assists_per90\">2.76</td><td class=\"right\" data-stat=\"goals_pens_per90\">1.47</td><td class=\"right\" data-stat=\"goals_assists_pens_per90\">2.66</td><td class=\"right group_start\" data-stat=\"xg_per90\">1.46</td><td class=\"right\" data-stat=\"xg_assist_per90\">1.10</td><td class=\"right\" data-stat=\"xg_xg_assist_per90\">2.57</td><td class=\"right\" data-stat=\"npxg_per90\">1.38</td><td class=\"right\" data-stat=\"npxg_xg_assist_per90\">2.48</td></tr> <tr><th class=\"left\" data-stat=\"team\" scope=\"row\"><a href=\"/en/squads/a2d435b3/2020-2021/Leicester-City-Stats\">Leicester City</a></th><td class=\"right\" data-stat=\"players_used\">27</td><td class=\"center\" data-stat=\"avg_age\">26.5</td><td class=\"center\" data-stat=\"possession\">54.3</td><td class=\"right group_start\" data-stat=\"games\">38</td><td class=\"right\" data-stat=\"games_starts\">418</td><td class=\"right\" csk=\"3420\" data-stat=\"minutes\">3,420</td><td class=\"right\" data-stat=\"minutes_90s\">38.0</td><td class=\"right group_start\" data-stat=\"goals\">64</td><td class=\"right\" data-stat=\"assists\">45</td><td class=\"right\" data-stat=\"goals_assists\">109</td><td class=\"right\" data-stat=\"goals_pens\">54</td><td class=\"right\" data-stat=\"pens_made\">10</td><td class=\"right\" data-stat=\"pens_att\">12</td><td class=\"right\" data-stat=\"cards_yellow\">61</td><td class=\"right iz\" data-stat=\"cards_red\">0</td><td class=\"right group_start\" data-stat=\"xg\">55.8</td><td class=\"right\" data-stat=\"npxg\">46.3</td><td class=\"right\" data-stat=\"xg_assist\">33.7</td><td class=\"right\" data-stat=\"npxg_xg_assist\">80.1</td><td class=\"right group_start\" data-stat=\"progressive_carries\">666</td><td class=\"right\" data-stat=\"progressive_passes\">1464</td><td class=\"right group_start\" data-stat=\"goals_per90\">1.68</td><td class=\"right\" data-stat=\"assists_per90\">1.18</td><td class=\"right\" data-stat=\"goals_assists_per90\">2.87</td><td class=\"right\" data-stat=\"goals_pens_per90\">1.42</td><td class=\"right\" data-stat=\"goals_assists_pens_per90\">2.61</td><td class=\"right group_start\" data-stat=\"xg_per90\">1.47</td><td class=\"right\" data-stat=\"xg_assist_per90\">0.89</td><td class=\"right\" data-stat=\"xg_xg_assist_per90\">2.36</td><td class=\"right\" data-stat=\"npxg_per90\">1.22</td><td class=\"right\" data-stat=\"npxg_xg_assist_per90\">2.11</td></tr> <tr><th class=\"left\" data-stat=\"team\" scope=\"row\"><a href=\"/en/squads/822bd0ba/2020-2021/Liverpool-Stats\">Liverpool</a></th><td class=\"right\" data-stat=\"players_used\">28</td><td class=\"center\" data-stat=\"avg_age\">26.8</td><td class=\"center\" data-stat=\"possession\">62.1</td><td class=\"right group_start\" data-stat=\"games\">38</td><td class=\"right\" data-stat=\"games_starts\">418</td><td class=\"right\" csk=\"3420\" data-stat=\"minutes\">3,420</td><td class=\"right\" data-stat=\"minutes_90s\">38.0</td><td class=\"right group_start\" data-stat=\"goals\">65</td><td class=\"right\" data-stat=\"assists\">43</td><td class=\"right\" data-stat=\"goals_assists\">108</td><td class=\"right\" data-stat=\"goals_pens\">59</td><td class=\"right\" data-stat=\"pens_made\">6</td><td class=\"right\" data-stat=\"pens_att\">6</td><td class=\"right\" data-stat=\"cards_yellow\">40</td><td class=\"right iz\" data-stat=\"cards_red\">0</td><td class=\"right group_start\" data-stat=\"xg\">67.5</td><td class=\"right\" data-stat=\"npxg\">62.9</td><td class=\"right\" data-stat=\"xg_assist\">48.3</td><td class=\"right\" data-stat=\"npxg_xg_assist\">111.2</td><td class=\"right group_start\" data-stat=\"progressive_carries\">886</td><td class=\"right\" data-stat=\"progressive_passes\">2057</td><td class=\"right group_start\" data-stat=\"goals_per90\">1.71</td><td class=\"right\" data-stat=\"assists_per90\">1.13</td><td class=\"right\" data-stat=\"goals_assists_per90\">2.84</td><td class=\"right\" data-stat=\"goals_pens_per90\">1.55</td><td class=\"right\" data-stat=\"goals_assists_pens_per90\">2.68</td><td class=\"right group_start\" data-stat=\"xg_per90\">1.78</td><td class=\"right\" data-stat=\"xg_assist_per90\">1.27</td><td class=\"right\" data-stat=\"xg_xg_assist_per90\">3.05</td><td class=\"right\" data-stat=\"npxg_per90\">1.66</td><td class=\"right\" data-stat=\"npxg_xg_assist_per90\">2.93</td></tr> <tr><th class=\"left\" data-stat=\"team\" scope=\"row\"><a href=\"/en/squads/b8fd03ef/2020-2021/Manchester-City-Stats\">Manchester City</a></th><td class=\"right\" data-stat=\"players_used\">24</td><td class=\"center\" data-stat=\"avg_age\">26.1</td><td class=\"center\" data-stat=\"possession\">63.5</td><td class=\"right group_start\" data-stat=\"games\">38</td><td class=\"right\" data-stat=\"games_starts\">418</td><td class=\"right\" csk=\"3420\" data-stat=\"minutes\">3,420</td><td class=\"right\" data-stat=\"minutes_90s\">38.0</td><td class=\"right group_start\" data-stat=\"goals\">82</td><td class=\"right\" data-stat=\"assists\">55</td><td class=\"right\" data-stat=\"goals_assists\">137</td><td class=\"right\" data-stat=\"goals_pens\">77</td><td class=\"right\" data-stat=\"pens_made\">5</td><td class=\"right\" data-stat=\"pens_att\">9</td><td class=\"right\" data-stat=\"cards_yellow\">46</td><td class=\"right\" data-stat=\"cards_red\">2</td><td class=\"right group_start\" data-stat=\"xg\">68.2</td><td class=\"right\" data-stat=\"npxg\">61.2</td><td class=\"right\" data-stat=\"xg_assist\">45.4</td><td class=\"right\" data-stat=\"npxg_xg_assist\">106.6</td><td class=\"right group_start\" data-stat=\"progressive_carries\">1096</td><td class=\"right\" data-stat=\"progressive_passes\">2051</td><td class=\"right group_start\" data-stat=\"goals_per90\">2.16</td><td class=\"right\" data-stat=\"assists_per90\">1.45</td><td class=\"right\" data-stat=\"goals_assists_per90\">3.61</td><td class=\"right\" data-stat=\"goals_pens_per90\">2.03</td><td class=\"right\" data-stat=\"goals_assists_pens_per90\">3.47</td><td class=\"right group_start\" data-stat=\"xg_per90\">1.80</td><td class=\"right\" data-stat=\"xg_assist_per90\">1.19</td><td class=\"right\" data-stat=\"xg_xg_assist_per90\">2.99</td><td class=\"right\" data-stat=\"npxg_per90\">1.61</td><td class=\"right\" data-stat=\"npxg_xg_assist_per90\">2.81</td></tr> <tr><th class=\"left\" data-stat=\"team\" scope=\"row\"><a href=\"/en/squads/19538871/2020-2021/Manchester-United-Stats\">Manchester Utd</a></th><td class=\"right\" data-stat=\"players_used\">29</td><td class=\"center\" data-stat=\"avg_age\">25.6</td><td class=\"center\" data-stat=\"possession\">55.7</td><td class=\"right group_start\" data-stat=\"games\">38</td><td class=\"right\" data-stat=\"games_starts\">418</td><td class=\"right\" csk=\"3420\" data-stat=\"minutes\">3,420</td><td class=\"right\" data-stat=\"minutes_90s\">38.0</td><td class=\"right group_start\" data-stat=\"goals\">70</td><td class=\"right\" data-stat=\"assists\">51</td><td class=\"right\" data-stat=\"goals_assists\">121</td><td class=\"right\" data-stat=\"goals_pens\">60</td><td class=\"right\" data-stat=\"pens_made\">10</td><td class=\"right\" data-stat=\"pens_att\">11</td><td class=\"right\" data-stat=\"cards_yellow\">64</td><td class=\"right\" data-stat=\"cards_red\">1</td><td class=\"right group_start\" data-stat=\"xg\">60.1</td><td class=\"right\" data-stat=\"npxg\">51.4</td><td class=\"right\" data-stat=\"xg_assist\">41.6</td><td class=\"right\" data-stat=\"npxg_xg_assist\">93.1</td><td class=\"right group_start\" data-stat=\"progressive_carries\">877</td><td class=\"right\" data-stat=\"progressive_passes\">1832</td><td class=\"right group_start\" data-stat=\"goals_per90\">1.84</td><td class=\"right\" data-stat=\"assists_per90\">1.34</td><td class=\"right\" data-stat=\"goals_assists_per90\">3.18</td><td class=\"right\" data-stat=\"goals_pens_per90\">1.58</td><td class=\"right\" data-stat=\"goals_assists_pens_per90\">2.92</td><td class=\"right group_start\" data-stat=\"xg_per90\">1.58</td><td class=\"right\" data-stat=\"xg_assist_per90\">1.10</td><td class=\"right\" data-stat=\"xg_xg_assist_per90\">2.68</td><td class=\"right\" data-stat=\"npxg_per90\">1.35</td><td class=\"right\" data-stat=\"npxg_xg_assist_per90\">2.45</td></tr> <tr><th class=\"left\" data-stat=\"team\" scope=\"row\"><a href=\"/en/squads/b2b47a98/2020-2021/Newcastle-United-Stats\">Newcastle Utd</a></th><td class=\"right\" data-stat=\"players_used\">27</td><td class=\"center\" data-stat=\"avg_age\">27.1</td><td class=\"center\" data-stat=\"possession\">38.8</td><td class=\"right group_start\" data-stat=\"games\">38</td><td class=\"right\" data-stat=\"games_starts\">418</td><td class=\"right\" csk=\"3420\" data-stat=\"minutes\">3,420</td><td class=\"right\" data-stat=\"minutes_90s\">38.0</td><td class=\"right group_start\" data-stat=\"goals\">44</td><td class=\"right\" data-stat=\"assists\">26</td><td class=\"right\" data-stat=\"goals_assists\">70</td><td class=\"right\" data-stat=\"goals_pens\">38</td><td class=\"right\" data-stat=\"pens_made\">6</td><td class=\"right\" data-stat=\"pens_att\">7</td><td class=\"right\" data-stat=\"cards_yellow\">65</td><td class=\"right\" data-stat=\"cards_red\">3</td><td class=\"right group_start\" data-stat=\"xg\">43.4</td><td class=\"right\" data-stat=\"npxg\">37.8</td><td class=\"right\" data-stat=\"xg_assist\">29.0</td><td class=\"right\" data-stat=\"npxg_xg_assist\">66.8</td><td class=\"right group_start\" data-stat=\"progressive_carries\">467</td><td class=\"right\" data-stat=\"progressive_passes\">903</td><td class=\"right group_start\" data-stat=\"goals_per90\">1.16</td><td class=\"right\" data-stat=\"assists_per90\">0.68</td><td class=\"right\" data-stat=\"goals_assists_per90\">1.84</td><td class=\"right\" data-stat=\"goals_pens_per90\">1.00</td><td class=\"right\" data-stat=\"goals_assists_pens_per90\">1.68</td><td class=\"right group_start\" data-stat=\"xg_per90\">1.14</td><td class=\"right\" data-stat=\"xg_assist_per90\">0.76</td><td class=\"right\" data-stat=\"xg_xg_assist_per90\">1.91</td><td class=\"right\" data-stat=\"npxg_per90\">1.00</td><td class=\"right\" data-stat=\"npxg_xg_assist_per90\">1.76</td></tr> <tr><th class=\"left\" data-stat=\"team\" scope=\"row\"><a href=\"/en/squads/1df6b87e/2020-2021/Sheffield-United-Stats\">Sheffield Utd</a></th><td class=\"right\" data-stat=\"players_used\">27</td><td class=\"center\" data-stat=\"avg_age\">26.7</td><td class=\"center\" data-stat=\"possession\">41.7</td><td class=\"right group_start\" data-stat=\"games\">38</td><td class=\"right\" data-stat=\"games_starts\">418</td><td class=\"right\" csk=\"3420\" data-stat=\"minutes\">3,420</td><td class=\"right\" data-stat=\"minutes_90s\">38.0</td><td class=\"right group_start\" data-stat=\"goals\">19</td><td class=\"right\" data-stat=\"assists\">13</td><td class=\"right\" data-stat=\"goals_assists\">32</td><td class=\"right\" data-stat=\"goals_pens\">16</td><td class=\"right\" data-stat=\"pens_made\">3</td><td class=\"right\" data-stat=\"pens_att\">4</td><td class=\"right\" data-stat=\"cards_yellow\">73</td><td class=\"right\" data-stat=\"cards_red\">3</td><td class=\"right group_start\" data-stat=\"xg\">32.6</td><td class=\"right\" data-stat=\"npxg\">29.5</td><td class=\"right\" data-stat=\"xg_assist\">24.9</td><td class=\"right\" data-stat=\"npxg_xg_assist\">54.4</td><td class=\"right group_start\" data-stat=\"progressive_carries\">491</td><td class=\"right\" data-stat=\"progressive_passes\">1196</td><td class=\"right group_start\" data-stat=\"goals_per90\">0.50</td><td class=\"right\" data-stat=\"assists_per90\">0.34</td><td class=\"right\" data-stat=\"goals_assists_per90\">0.84</td><td class=\"right\" data-stat=\"goals_pens_per90\">0.42</td><td class=\"right\" data-stat=\"goals_assists_pens_per90\">0.76</td><td class=\"right group_start\" data-stat=\"xg_per90\">0.86</td><td class=\"right\" data-stat=\"xg_assist_per90\">0.66</td><td class=\"right\" data-stat=\"xg_xg_assist_per90\">1.52</td><td class=\"right\" data-stat=\"npxg_per90\">0.78</td><td class=\"right\" data-stat=\"npxg_xg_assist_per90\">1.43</td></tr> <tr><th class=\"left\" data-stat=\"team\" scope=\"row\"><a href=\"/en/squads/33c895d4/2020-2021/Southampton-Stats\">Southampton</a></th><td class=\"right\" data-stat=\"players_used\">29</td><td class=\"center\" data-stat=\"avg_age\">26.6</td><td class=\"center\" data-stat=\"possession\">52.0</td><td class=\"right group_start\" data-stat=\"games\">38</td><td class=\"right\" data-stat=\"games_starts\">418</td><td class=\"right\" csk=\"3420\" data-stat=\"minutes\">3,420</td><td class=\"right\" data-stat=\"minutes_90s\">38.0</td><td class=\"right group_start\" data-stat=\"goals\">47</td><td class=\"right\" data-stat=\"assists\">33</td><td class=\"right\" data-stat=\"goals_assists\">80</td><td class=\"right\" data-stat=\"goals_pens\">42</td><td class=\"right\" data-stat=\"pens_made\">5</td><td class=\"right\" data-stat=\"pens_att\">6</td><td class=\"right\" data-stat=\"cards_yellow\">52</td><td class=\"right\" data-stat=\"cards_red\">3</td><td class=\"right group_start\" data-stat=\"xg\">41.2</td><td class=\"right\" data-stat=\"npxg\">36.6</td><td class=\"right\" data-stat=\"xg_assist\">25.8</td><td class=\"right\" data-stat=\"npxg_xg_assist\">62.5</td><td class=\"right group_start\" data-stat=\"progressive_carries\">626</td><td class=\"right\" data-stat=\"progressive_passes\">1195</td><td class=\"right group_start\" data-stat=\"goals_per90\">1.24</td><td class=\"right\" data-stat=\"assists_per90\">0.87</td><td class=\"right\" data-stat=\"goals_assists_per90\">2.11</td><td class=\"right\" data-stat=\"goals_pens_per90\">1.11</td><td class=\"right\" data-stat=\"goals_assists_pens_per90\">1.97</td><td class=\"right group_start\" data-stat=\"xg_per90\">1.09</td><td class=\"right\" data-stat=\"xg_assist_per90\">0.68</td><td class=\"right\" data-stat=\"xg_xg_assist_per90\">1.77</td><td class=\"right\" data-stat=\"npxg_per90\">0.96</td><td class=\"right\" data-stat=\"npxg_xg_assist_per90\">1.64</td></tr> <tr><th class=\"left\" data-stat=\"team\" scope=\"row\"><a href=\"/en/squads/361ca564/2020-2021/Tottenham-Hotspur-Stats\">Tottenham</a></th><td class=\"right\" data-stat=\"players_used\">24</td><td class=\"center\" data-stat=\"avg_age\">27.2</td><td class=\"center\" data-stat=\"possession\">51.6</td><td class=\"right group_start\" data-stat=\"games\">38</td><td class=\"right\" data-stat=\"games_starts\">418</td><td class=\"right\" csk=\"3420\" data-stat=\"minutes\">3,420</td><td class=\"right\" data-stat=\"minutes_90s\">38.0</td><td class=\"right group_start\" data-stat=\"goals\">66</td><td class=\"right\" data-stat=\"assists\">50</td><td class=\"right\" data-stat=\"goals_assists\">116</td><td class=\"right\" data-stat=\"goals_pens\">61</td><td class=\"right\" data-stat=\"pens_made\">5</td><td class=\"right\" data-stat=\"pens_att\">5</td><td class=\"right\" data-stat=\"cards_yellow\">57</td><td class=\"right\" data-stat=\"cards_red\">2</td><td class=\"right group_start\" data-stat=\"xg\">53.1</td><td class=\"right\" data-stat=\"npxg\">49.2</td><td class=\"right\" data-stat=\"xg_assist\">35.3</td><td class=\"right\" data-stat=\"npxg_xg_assist\">84.4</td><td class=\"right group_start\" data-stat=\"progressive_carries\">633</td><td class=\"right\" data-stat=\"progressive_passes\">1330</td><td class=\"right group_start\" data-stat=\"goals_per90\">1.74</td><td class=\"right\" data-stat=\"assists_per90\">1.32</td><td class=\"right\" data-stat=\"goals_assists_per90\">3.05</td><td class=\"right\" data-stat=\"goals_pens_per90\">1.61</td><td class=\"right\" data-stat=\"goals_assists_pens_per90\">2.92</td><td class=\"right group_start\" data-stat=\"xg_per90\">1.40</td><td class=\"right\" data-stat=\"xg_assist_per90\">0.93</td><td class=\"right\" data-stat=\"xg_xg_assist_per90\">2.33</td><td class=\"right\" data-stat=\"npxg_per90\">1.29</td><td class=\"right\" data-stat=\"npxg_xg_assist_per90\">2.22</td></tr> <tr><th class=\"left\" data-stat=\"team\" scope=\"row\"><a href=\"/en/squads/60c6b05f/2020-2021/West-Bromwich-Albion-Stats\">West Brom</a></th><td class=\"right\" data-stat=\"players_used\">30</td><td class=\"center\" data-stat=\"avg_age\">26.4</td><td class=\"center\" data-stat=\"possession\">37.9</td><td class=\"right group_start\" data-stat=\"games\">38</td><td class=\"right\" data-stat=\"games_starts\">418</td><td class=\"right\" csk=\"3420\" data-stat=\"minutes\">3,420</td><td class=\"right\" data-stat=\"minutes_90s\">38.0</td><td class=\"right group_start\" data-stat=\"goals\">33</td><td class=\"right\" data-stat=\"assists\">20</td><td class=\"right\" data-stat=\"goals_assists\">53</td><td class=\"right\" data-stat=\"goals_pens\">29</td><td class=\"right\" data-stat=\"pens_made\">4</td><td class=\"right\" data-stat=\"pens_att\">4</td><td class=\"right\" data-stat=\"cards_yellow\">51</td><td class=\"right\" data-stat=\"cards_red\">4</td><td class=\"right group_start\" data-stat=\"xg\">35.8</td><td class=\"right\" data-stat=\"npxg\">32.7</td><td class=\"right\" data-stat=\"xg_assist\">24.4</td><td class=\"right\" data-stat=\"npxg_xg_assist\">57.1</td><td class=\"right group_start\" data-stat=\"progressive_carries\">441</td><td class=\"right\" data-stat=\"progressive_passes\">1027</td><td class=\"right group_start\" data-stat=\"goals_per90\">0.87</td><td class=\"right\" data-stat=\"assists_per90\">0.53</td><td class=\"right\" data-stat=\"goals_assists_per90\">1.39</td><td class=\"right\" data-stat=\"goals_pens_per90\">0.76</td><td class=\"right\" data-stat=\"goals_assists_pens_per90\">1.29</td><td class=\"right group_start\" data-stat=\"xg_per90\">0.94</td><td class=\"right\" data-stat=\"xg_assist_per90\">0.64</td><td class=\"right\" data-stat=\"xg_xg_assist_per90\">1.59</td><td class=\"right\" data-stat=\"npxg_per90\">0.86</td><td class=\"right\" data-stat=\"npxg_xg_assist_per90\">1.50</td></tr> <tr><th class=\"left\" data-stat=\"team\" scope=\"row\"><a href=\"/en/squads/7c21e445/2020-2021/West-Ham-United-Stats\">West Ham</a></th><td class=\"right\" data-stat=\"players_used\">24</td><td class=\"center\" data-stat=\"avg_age\">27.8</td><td class=\"center\" data-stat=\"possession\">43.2</td><td class=\"right group_start\" data-stat=\"games\">38</td><td class=\"right\" data-stat=\"games_starts\">418</td><td class=\"right\" csk=\"3420\" data-stat=\"minutes\">3,420</td><td class=\"right\" data-stat=\"minutes_90s\">38.0</td><td class=\"right group_start\" data-stat=\"goals\">60</td><td class=\"right\" data-stat=\"assists\">46</td><td class=\"right\" data-stat=\"goals_assists\">106</td><td class=\"right\" data-stat=\"goals_pens\">58</td><td class=\"right\" data-stat=\"pens_made\">2</td><td class=\"right\" data-stat=\"pens_att\">4</td><td class=\"right\" data-stat=\"cards_yellow\">50</td><td class=\"right\" data-stat=\"cards_red\">3</td><td class=\"right group_start\" data-stat=\"xg\">55.4</td><td class=\"right\" data-stat=\"npxg\">52.1</td><td class=\"right\" data-stat=\"xg_assist\">39.6</td><td class=\"right\" data-stat=\"npxg_xg_assist\">91.7</td><td class=\"right group_start\" data-stat=\"progressive_carries\">658</td><td class=\"right\" data-stat=\"progressive_passes\">1282</td><td class=\"right group_start\" data-stat=\"goals_per90\">1.58</td><td class=\"right\" data-stat=\"assists_per90\">1.21</td><td class=\"right\" data-stat=\"goals_assists_per90\">2.79</td><td class=\"right\" data-stat=\"goals_pens_per90\">1.53</td><td class=\"right\" data-stat=\"goals_assists_pens_per90\">2.74</td><td class=\"right group_start\" data-stat=\"xg_per90\">1.46</td><td class=\"right\" data-stat=\"xg_assist_per90\">1.04</td><td class=\"right\" data-stat=\"xg_xg_assist_per90\">2.50</td><td class=\"right\" data-stat=\"npxg_per90\">1.37</td><td class=\"right\" data-stat=\"npxg_xg_assist_per90\">2.41</td></tr> <tr><th class=\"left\" data-stat=\"team\" scope=\"row\"><a href=\"/en/squads/8cec06e1/2020-2021/Wolverhampton-Wanderers-Stats\">Wolves</a></th><td class=\"right\" data-stat=\"players_used\">27</td><td class=\"center\" data-stat=\"avg_age\">26.3</td><td class=\"center\" data-stat=\"possession\">49.3</td><td class=\"right group_start\" data-stat=\"games\">38</td><td class=\"right\" data-stat=\"games_starts\">418</td><td class=\"right\" csk=\"3420\" data-stat=\"minutes\">3,420</td><td class=\"right\" data-stat=\"minutes_90s\">38.0</td><td class=\"right group_start\" data-stat=\"goals\">34</td><td class=\"right\" data-stat=\"assists\">21</td><td class=\"right\" data-stat=\"goals_assists\">55</td><td class=\"right\" data-stat=\"goals_pens\">30</td><td class=\"right\" data-stat=\"pens_made\">4</td><td class=\"right\" data-stat=\"pens_att\">4</td><td class=\"right\" data-stat=\"cards_yellow\">55</td><td class=\"right\" data-stat=\"cards_red\">1</td><td class=\"right group_start\" data-stat=\"xg\">36.5</td><td class=\"right\" data-stat=\"npxg\">33.4</td><td class=\"right\" data-stat=\"xg_assist\">24.1</td><td class=\"right\" data-stat=\"npxg_xg_assist\">57.6</td><td class=\"right group_start\" data-stat=\"progressive_carries\">800</td><td class=\"right\" data-stat=\"progressive_passes\">1283</td><td class=\"right group_start\" data-stat=\"goals_per90\">0.89</td><td class=\"right\" data-stat=\"assists_per90\">0.55</td><td class=\"right\" data-stat=\"goals_assists_per90\">1.45</td><td class=\"right\" data-stat=\"goals_pens_per90\">0.79</td><td class=\"right\" data-stat=\"goals_assists_pens_per90\">1.34</td><td class=\"right group_start\" data-stat=\"xg_per90\">0.96</td><td class=\"right\" data-stat=\"xg_assist_per90\">0.63</td><td class=\"right\" data-stat=\"xg_xg_assist_per90\">1.60</td><td class=\"right\" data-stat=\"npxg_per90\">0.88</td><td class=\"right\" data-stat=\"npxg_xg_assist_per90\">1.51</td></tr> </tbody> </table>\n"
     ]
    }
   ],
   "source": [
    "print(table)"
   ]
  },
  {
   "cell_type": "markdown",
   "id": "47fc8d59",
   "metadata": {},
   "source": [
    "## Get all the team names"
   ]
  },
  {
   "cell_type": "code",
   "execution_count": 38,
   "id": "d679351c",
   "metadata": {},
   "outputs": [],
   "source": [
    "team_names_list = table.find('tbody').find_all('th')"
   ]
  },
  {
   "cell_type": "code",
   "execution_count": 41,
   "id": "019fa90b",
   "metadata": {},
   "outputs": [
    {
     "name": "stdout",
     "output_type": "stream",
     "text": [
      "['Arsenal', 'Aston Villa', 'Brighton', 'Burnley', 'Chelsea', 'Crystal Palace', 'Everton', 'Fulham', 'Leeds United', 'Leicester City', 'Liverpool', 'Manchester City', 'Manchester Utd', 'Newcastle Utd', 'Sheffield Utd', 'Southampton', 'Tottenham', 'West Brom', 'West Ham', 'Wolves']\n"
     ]
    }
   ],
   "source": [
    "team_names = [name.text for name in team_names_list]\n",
    "print(team_names)"
   ]
  },
  {
   "cell_type": "markdown",
   "id": "307cc636",
   "metadata": {},
   "source": [
    "## Get the headers"
   ]
  },
  {
   "cell_type": "code",
   "execution_count": 84,
   "id": "41c489cf",
   "metadata": {},
   "outputs": [],
   "source": [
    "html = table.find('tbody').find_all('tr')[0]\n",
    "html_str = str(html)"
   ]
  },
  {
   "cell_type": "code",
   "execution_count": 85,
   "id": "b3539ae8",
   "metadata": {},
   "outputs": [
    {
     "name": "stdout",
     "output_type": "stream",
     "text": [
      "['team', 'players_used', 'avg_age', 'possession', 'games', 'games_starts', 'minutes', 'minutes_90s', 'goals', 'assists', 'goals_assists', 'goals_pens', 'pens_made', 'pens_att', 'cards_yellow', 'cards_red', 'xg', 'npxg', 'xg_assist', 'npxg_xg_assist', 'progressive_carries', 'progressive_passes', 'goals_per90', 'assists_per90', 'goals_assists_per90', 'goals_pens_per90', 'goals_assists_pens_per90', 'xg_per90', 'xg_assist_per90', 'xg_xg_assist_per90', 'npxg_per90', 'npxg_xg_assist_per90']\n"
     ]
    }
   ],
   "source": [
    "header_list = re.findall(r\"data-stat=\\\"(.*?)\\\"\",html_str)\n",
    "print(header_list)"
   ]
  },
  {
   "cell_type": "markdown",
   "id": "8b1b9212",
   "metadata": {},
   "source": [
    "## Get all the data"
   ]
  },
  {
   "cell_type": "code",
   "execution_count": 81,
   "id": "b27ae0e6",
   "metadata": {},
   "outputs": [
    {
     "name": "stdout",
     "output_type": "stream",
     "text": [
      "[29.0, 25.9, 53.5, 38.0, 418.0, 3420.0, 38.0, 53.0, 38.0, 91.0, 47.0, 6.0, 6.0, 49.0, 5.0, 51.8, 47.0, 35.1, 82.1, 758.0, 1760.0, 1.39, 1.0, 2.39, 1.24, 2.24, 1.36, 0.92, 2.29, 1.24, 2.16]\n"
     ]
    }
   ],
   "source": [
    "# print([float(item.text.replace(',', '')) for item in html.find_all('td')]) # first row as an example"
   ]
  },
  {
   "cell_type": "code",
   "execution_count": 93,
   "id": "2efd158a",
   "metadata": {},
   "outputs": [],
   "source": [
    "data = []\n",
    "i = 0\n",
    "for row in table.find('tbody').find_all('tr'):\n",
    "    digits = [float(item.text.replace(',', '')) for item in row.find_all('td')]\n",
    "    full_list = [team_names[i]]+digits\n",
    "    data.append(full_list)\n",
    "    i+=1"
   ]
  },
  {
   "cell_type": "code",
   "execution_count": 94,
   "id": "4df01f17",
   "metadata": {
    "collapsed": true
   },
   "outputs": [
    {
     "name": "stdout",
     "output_type": "stream",
     "text": [
      "[['Arsenal', 29.0, 25.9, 53.5, 38.0, 418.0, 3420.0, 38.0, 53.0, 38.0, 91.0, 47.0, 6.0, 6.0, 49.0, 5.0, 51.8, 47.0, 35.1, 82.1, 758.0, 1760.0, 1.39, 1.0, 2.39, 1.24, 2.24, 1.36, 0.92, 2.29, 1.24, 2.16], ['Aston Villa', 24.0, 25.2, 48.5, 38.0, 418.0, 3420.0, 38.0, 52.0, 38.0, 90.0, 47.0, 5.0, 6.0, 71.0, 4.0, 52.5, 47.9, 37.4, 85.3, 629.0, 1420.0, 1.37, 1.0, 2.37, 1.24, 2.24, 1.38, 0.98, 2.37, 1.26, 2.25], ['Brighton', 27.0, 25.8, 51.1, 38.0, 418.0, 3420.0, 38.0, 39.0, 24.0, 63.0, 33.0, 6.0, 9.0, 49.0, 6.0, 50.9, 43.8, 33.2, 77.0, 685.0, 1516.0, 1.03, 0.63, 1.66, 0.87, 1.5, 1.34, 0.87, 2.21, 1.15, 2.03], ['Burnley', 25.0, 28.3, 42.1, 38.0, 418.0, 3420.0, 38.0, 32.0, 20.0, 52.0, 29.0, 3.0, 3.0, 48.0, 0.0, 39.3, 36.9, 27.7, 64.6, 389.0, 1012.0, 0.84, 0.53, 1.37, 0.76, 1.29, 1.03, 0.73, 1.76, 0.97, 1.7], ['Chelsea', 27.0, 26.0, 60.9, 38.0, 418.0, 3420.0, 38.0, 56.0, 38.0, 94.0, 48.0, 8.0, 10.0, 51.0, 3.0, 62.4, 54.5, 41.5, 96.1, 895.0, 1798.0, 1.47, 1.0, 2.47, 1.26, 2.26, 1.64, 1.09, 2.74, 1.44, 2.53], ['Crystal Palace', 24.0, 29.1, 40.6, 38.0, 418.0, 3420.0, 38.0, 39.0, 29.0, 68.0, 36.0, 3.0, 4.0, 56.0, 2.0, 34.1, 31.0, 23.6, 54.6, 526.0, 1132.0, 1.03, 0.76, 1.79, 0.95, 1.71, 0.9, 0.62, 1.52, 0.82, 1.44], ['Everton', 29.0, 26.3, 46.4, 38.0, 418.0, 3420.0, 38.0, 45.0, 32.0, 77.0, 41.0, 4.0, 5.0, 59.0, 2.0, 45.7, 41.9, 30.7, 72.6, 604.0, 1184.0, 1.18, 0.84, 2.03, 1.08, 1.92, 1.2, 0.81, 2.01, 1.1, 1.91], ['Fulham', 28.0, 25.2, 49.7, 38.0, 418.0, 3420.0, 38.0, 26.0, 18.0, 44.0, 23.0, 3.0, 6.0, 67.0, 3.0, 40.5, 35.9, 26.3, 62.2, 727.0, 1354.0, 0.68, 0.47, 1.16, 0.61, 1.08, 1.07, 0.69, 1.76, 0.95, 1.64], ['Leeds United', 23.0, 26.1, 57.3, 38.0, 418.0, 3420.0, 38.0, 60.0, 45.0, 105.0, 56.0, 4.0, 4.0, 61.0, 1.0, 55.6, 52.5, 41.9, 94.3, 811.0, 1633.0, 1.58, 1.18, 2.76, 1.47, 2.66, 1.46, 1.1, 2.57, 1.38, 2.48], ['Leicester City', 27.0, 26.5, 54.3, 38.0, 418.0, 3420.0, 38.0, 64.0, 45.0, 109.0, 54.0, 10.0, 12.0, 61.0, 0.0, 55.8, 46.3, 33.7, 80.1, 666.0, 1464.0, 1.68, 1.18, 2.87, 1.42, 2.61, 1.47, 0.89, 2.36, 1.22, 2.11], ['Liverpool', 28.0, 26.8, 62.1, 38.0, 418.0, 3420.0, 38.0, 65.0, 43.0, 108.0, 59.0, 6.0, 6.0, 40.0, 0.0, 67.5, 62.9, 48.3, 111.2, 886.0, 2057.0, 1.71, 1.13, 2.84, 1.55, 2.68, 1.78, 1.27, 3.05, 1.66, 2.93], ['Manchester City', 24.0, 26.1, 63.5, 38.0, 418.0, 3420.0, 38.0, 82.0, 55.0, 137.0, 77.0, 5.0, 9.0, 46.0, 2.0, 68.2, 61.2, 45.4, 106.6, 1096.0, 2051.0, 2.16, 1.45, 3.61, 2.03, 3.47, 1.8, 1.19, 2.99, 1.61, 2.81], ['Manchester Utd', 29.0, 25.6, 55.7, 38.0, 418.0, 3420.0, 38.0, 70.0, 51.0, 121.0, 60.0, 10.0, 11.0, 64.0, 1.0, 60.1, 51.4, 41.6, 93.1, 877.0, 1832.0, 1.84, 1.34, 3.18, 1.58, 2.92, 1.58, 1.1, 2.68, 1.35, 2.45], ['Newcastle Utd', 27.0, 27.1, 38.8, 38.0, 418.0, 3420.0, 38.0, 44.0, 26.0, 70.0, 38.0, 6.0, 7.0, 65.0, 3.0, 43.4, 37.8, 29.0, 66.8, 467.0, 903.0, 1.16, 0.68, 1.84, 1.0, 1.68, 1.14, 0.76, 1.91, 1.0, 1.76], ['Sheffield Utd', 27.0, 26.7, 41.7, 38.0, 418.0, 3420.0, 38.0, 19.0, 13.0, 32.0, 16.0, 3.0, 4.0, 73.0, 3.0, 32.6, 29.5, 24.9, 54.4, 491.0, 1196.0, 0.5, 0.34, 0.84, 0.42, 0.76, 0.86, 0.66, 1.52, 0.78, 1.43], ['Southampton', 29.0, 26.6, 52.0, 38.0, 418.0, 3420.0, 38.0, 47.0, 33.0, 80.0, 42.0, 5.0, 6.0, 52.0, 3.0, 41.2, 36.6, 25.8, 62.5, 626.0, 1195.0, 1.24, 0.87, 2.11, 1.11, 1.97, 1.09, 0.68, 1.77, 0.96, 1.64], ['Tottenham', 24.0, 27.2, 51.6, 38.0, 418.0, 3420.0, 38.0, 66.0, 50.0, 116.0, 61.0, 5.0, 5.0, 57.0, 2.0, 53.1, 49.2, 35.3, 84.4, 633.0, 1330.0, 1.74, 1.32, 3.05, 1.61, 2.92, 1.4, 0.93, 2.33, 1.29, 2.22], ['West Brom', 30.0, 26.4, 37.9, 38.0, 418.0, 3420.0, 38.0, 33.0, 20.0, 53.0, 29.0, 4.0, 4.0, 51.0, 4.0, 35.8, 32.7, 24.4, 57.1, 441.0, 1027.0, 0.87, 0.53, 1.39, 0.76, 1.29, 0.94, 0.64, 1.59, 0.86, 1.5], ['West Ham', 24.0, 27.8, 43.2, 38.0, 418.0, 3420.0, 38.0, 60.0, 46.0, 106.0, 58.0, 2.0, 4.0, 50.0, 3.0, 55.4, 52.1, 39.6, 91.7, 658.0, 1282.0, 1.58, 1.21, 2.79, 1.53, 2.74, 1.46, 1.04, 2.5, 1.37, 2.41], ['Wolves', 27.0, 26.3, 49.3, 38.0, 418.0, 3420.0, 38.0, 34.0, 21.0, 55.0, 30.0, 4.0, 4.0, 55.0, 1.0, 36.5, 33.4, 24.1, 57.6, 800.0, 1283.0, 0.89, 0.55, 1.45, 0.79, 1.34, 0.96, 0.63, 1.6, 0.88, 1.51]]\n"
     ]
    }
   ],
   "source": [
    "print(data)"
   ]
  },
  {
   "cell_type": "markdown",
   "id": "8f3da9b8",
   "metadata": {},
   "source": [
    "## Wrap the data all in one DataFrame"
   ]
  },
  {
   "cell_type": "code",
   "execution_count": 97,
   "id": "db06dd87",
   "metadata": {},
   "outputs": [
    {
     "data": {
      "text/html": [
       "<div>\n",
       "<style scoped>\n",
       "    .dataframe tbody tr th:only-of-type {\n",
       "        vertical-align: middle;\n",
       "    }\n",
       "\n",
       "    .dataframe tbody tr th {\n",
       "        vertical-align: top;\n",
       "    }\n",
       "\n",
       "    .dataframe thead th {\n",
       "        text-align: right;\n",
       "    }\n",
       "</style>\n",
       "<table border=\"1\" class=\"dataframe\">\n",
       "  <thead>\n",
       "    <tr style=\"text-align: right;\">\n",
       "      <th></th>\n",
       "      <th>team</th>\n",
       "      <th>players_used</th>\n",
       "      <th>avg_age</th>\n",
       "      <th>possession</th>\n",
       "      <th>games</th>\n",
       "      <th>games_starts</th>\n",
       "      <th>minutes</th>\n",
       "      <th>minutes_90s</th>\n",
       "      <th>goals</th>\n",
       "      <th>assists</th>\n",
       "      <th>...</th>\n",
       "      <th>goals_per90</th>\n",
       "      <th>assists_per90</th>\n",
       "      <th>goals_assists_per90</th>\n",
       "      <th>goals_pens_per90</th>\n",
       "      <th>goals_assists_pens_per90</th>\n",
       "      <th>xg_per90</th>\n",
       "      <th>xg_assist_per90</th>\n",
       "      <th>xg_xg_assist_per90</th>\n",
       "      <th>npxg_per90</th>\n",
       "      <th>npxg_xg_assist_per90</th>\n",
       "    </tr>\n",
       "  </thead>\n",
       "  <tbody>\n",
       "    <tr>\n",
       "      <th>0</th>\n",
       "      <td>Arsenal</td>\n",
       "      <td>29.0</td>\n",
       "      <td>25.9</td>\n",
       "      <td>53.5</td>\n",
       "      <td>38.0</td>\n",
       "      <td>418.0</td>\n",
       "      <td>3420.0</td>\n",
       "      <td>38.0</td>\n",
       "      <td>53.0</td>\n",
       "      <td>38.0</td>\n",
       "      <td>...</td>\n",
       "      <td>1.39</td>\n",
       "      <td>1.00</td>\n",
       "      <td>2.39</td>\n",
       "      <td>1.24</td>\n",
       "      <td>2.24</td>\n",
       "      <td>1.36</td>\n",
       "      <td>0.92</td>\n",
       "      <td>2.29</td>\n",
       "      <td>1.24</td>\n",
       "      <td>2.16</td>\n",
       "    </tr>\n",
       "    <tr>\n",
       "      <th>1</th>\n",
       "      <td>Aston Villa</td>\n",
       "      <td>24.0</td>\n",
       "      <td>25.2</td>\n",
       "      <td>48.5</td>\n",
       "      <td>38.0</td>\n",
       "      <td>418.0</td>\n",
       "      <td>3420.0</td>\n",
       "      <td>38.0</td>\n",
       "      <td>52.0</td>\n",
       "      <td>38.0</td>\n",
       "      <td>...</td>\n",
       "      <td>1.37</td>\n",
       "      <td>1.00</td>\n",
       "      <td>2.37</td>\n",
       "      <td>1.24</td>\n",
       "      <td>2.24</td>\n",
       "      <td>1.38</td>\n",
       "      <td>0.98</td>\n",
       "      <td>2.37</td>\n",
       "      <td>1.26</td>\n",
       "      <td>2.25</td>\n",
       "    </tr>\n",
       "    <tr>\n",
       "      <th>2</th>\n",
       "      <td>Brighton</td>\n",
       "      <td>27.0</td>\n",
       "      <td>25.8</td>\n",
       "      <td>51.1</td>\n",
       "      <td>38.0</td>\n",
       "      <td>418.0</td>\n",
       "      <td>3420.0</td>\n",
       "      <td>38.0</td>\n",
       "      <td>39.0</td>\n",
       "      <td>24.0</td>\n",
       "      <td>...</td>\n",
       "      <td>1.03</td>\n",
       "      <td>0.63</td>\n",
       "      <td>1.66</td>\n",
       "      <td>0.87</td>\n",
       "      <td>1.50</td>\n",
       "      <td>1.34</td>\n",
       "      <td>0.87</td>\n",
       "      <td>2.21</td>\n",
       "      <td>1.15</td>\n",
       "      <td>2.03</td>\n",
       "    </tr>\n",
       "    <tr>\n",
       "      <th>3</th>\n",
       "      <td>Burnley</td>\n",
       "      <td>25.0</td>\n",
       "      <td>28.3</td>\n",
       "      <td>42.1</td>\n",
       "      <td>38.0</td>\n",
       "      <td>418.0</td>\n",
       "      <td>3420.0</td>\n",
       "      <td>38.0</td>\n",
       "      <td>32.0</td>\n",
       "      <td>20.0</td>\n",
       "      <td>...</td>\n",
       "      <td>0.84</td>\n",
       "      <td>0.53</td>\n",
       "      <td>1.37</td>\n",
       "      <td>0.76</td>\n",
       "      <td>1.29</td>\n",
       "      <td>1.03</td>\n",
       "      <td>0.73</td>\n",
       "      <td>1.76</td>\n",
       "      <td>0.97</td>\n",
       "      <td>1.70</td>\n",
       "    </tr>\n",
       "    <tr>\n",
       "      <th>4</th>\n",
       "      <td>Chelsea</td>\n",
       "      <td>27.0</td>\n",
       "      <td>26.0</td>\n",
       "      <td>60.9</td>\n",
       "      <td>38.0</td>\n",
       "      <td>418.0</td>\n",
       "      <td>3420.0</td>\n",
       "      <td>38.0</td>\n",
       "      <td>56.0</td>\n",
       "      <td>38.0</td>\n",
       "      <td>...</td>\n",
       "      <td>1.47</td>\n",
       "      <td>1.00</td>\n",
       "      <td>2.47</td>\n",
       "      <td>1.26</td>\n",
       "      <td>2.26</td>\n",
       "      <td>1.64</td>\n",
       "      <td>1.09</td>\n",
       "      <td>2.74</td>\n",
       "      <td>1.44</td>\n",
       "      <td>2.53</td>\n",
       "    </tr>\n",
       "    <tr>\n",
       "      <th>5</th>\n",
       "      <td>Crystal Palace</td>\n",
       "      <td>24.0</td>\n",
       "      <td>29.1</td>\n",
       "      <td>40.6</td>\n",
       "      <td>38.0</td>\n",
       "      <td>418.0</td>\n",
       "      <td>3420.0</td>\n",
       "      <td>38.0</td>\n",
       "      <td>39.0</td>\n",
       "      <td>29.0</td>\n",
       "      <td>...</td>\n",
       "      <td>1.03</td>\n",
       "      <td>0.76</td>\n",
       "      <td>1.79</td>\n",
       "      <td>0.95</td>\n",
       "      <td>1.71</td>\n",
       "      <td>0.90</td>\n",
       "      <td>0.62</td>\n",
       "      <td>1.52</td>\n",
       "      <td>0.82</td>\n",
       "      <td>1.44</td>\n",
       "    </tr>\n",
       "    <tr>\n",
       "      <th>6</th>\n",
       "      <td>Everton</td>\n",
       "      <td>29.0</td>\n",
       "      <td>26.3</td>\n",
       "      <td>46.4</td>\n",
       "      <td>38.0</td>\n",
       "      <td>418.0</td>\n",
       "      <td>3420.0</td>\n",
       "      <td>38.0</td>\n",
       "      <td>45.0</td>\n",
       "      <td>32.0</td>\n",
       "      <td>...</td>\n",
       "      <td>1.18</td>\n",
       "      <td>0.84</td>\n",
       "      <td>2.03</td>\n",
       "      <td>1.08</td>\n",
       "      <td>1.92</td>\n",
       "      <td>1.20</td>\n",
       "      <td>0.81</td>\n",
       "      <td>2.01</td>\n",
       "      <td>1.10</td>\n",
       "      <td>1.91</td>\n",
       "    </tr>\n",
       "    <tr>\n",
       "      <th>7</th>\n",
       "      <td>Fulham</td>\n",
       "      <td>28.0</td>\n",
       "      <td>25.2</td>\n",
       "      <td>49.7</td>\n",
       "      <td>38.0</td>\n",
       "      <td>418.0</td>\n",
       "      <td>3420.0</td>\n",
       "      <td>38.0</td>\n",
       "      <td>26.0</td>\n",
       "      <td>18.0</td>\n",
       "      <td>...</td>\n",
       "      <td>0.68</td>\n",
       "      <td>0.47</td>\n",
       "      <td>1.16</td>\n",
       "      <td>0.61</td>\n",
       "      <td>1.08</td>\n",
       "      <td>1.07</td>\n",
       "      <td>0.69</td>\n",
       "      <td>1.76</td>\n",
       "      <td>0.95</td>\n",
       "      <td>1.64</td>\n",
       "    </tr>\n",
       "    <tr>\n",
       "      <th>8</th>\n",
       "      <td>Leeds United</td>\n",
       "      <td>23.0</td>\n",
       "      <td>26.1</td>\n",
       "      <td>57.3</td>\n",
       "      <td>38.0</td>\n",
       "      <td>418.0</td>\n",
       "      <td>3420.0</td>\n",
       "      <td>38.0</td>\n",
       "      <td>60.0</td>\n",
       "      <td>45.0</td>\n",
       "      <td>...</td>\n",
       "      <td>1.58</td>\n",
       "      <td>1.18</td>\n",
       "      <td>2.76</td>\n",
       "      <td>1.47</td>\n",
       "      <td>2.66</td>\n",
       "      <td>1.46</td>\n",
       "      <td>1.10</td>\n",
       "      <td>2.57</td>\n",
       "      <td>1.38</td>\n",
       "      <td>2.48</td>\n",
       "    </tr>\n",
       "    <tr>\n",
       "      <th>9</th>\n",
       "      <td>Leicester City</td>\n",
       "      <td>27.0</td>\n",
       "      <td>26.5</td>\n",
       "      <td>54.3</td>\n",
       "      <td>38.0</td>\n",
       "      <td>418.0</td>\n",
       "      <td>3420.0</td>\n",
       "      <td>38.0</td>\n",
       "      <td>64.0</td>\n",
       "      <td>45.0</td>\n",
       "      <td>...</td>\n",
       "      <td>1.68</td>\n",
       "      <td>1.18</td>\n",
       "      <td>2.87</td>\n",
       "      <td>1.42</td>\n",
       "      <td>2.61</td>\n",
       "      <td>1.47</td>\n",
       "      <td>0.89</td>\n",
       "      <td>2.36</td>\n",
       "      <td>1.22</td>\n",
       "      <td>2.11</td>\n",
       "    </tr>\n",
       "  </tbody>\n",
       "</table>\n",
       "<p>10 rows × 32 columns</p>\n",
       "</div>"
      ],
      "text/plain": [
       "             team  players_used  avg_age  possession  games  games_starts  \\\n",
       "0         Arsenal          29.0     25.9        53.5   38.0         418.0   \n",
       "1     Aston Villa          24.0     25.2        48.5   38.0         418.0   \n",
       "2        Brighton          27.0     25.8        51.1   38.0         418.0   \n",
       "3         Burnley          25.0     28.3        42.1   38.0         418.0   \n",
       "4         Chelsea          27.0     26.0        60.9   38.0         418.0   \n",
       "5  Crystal Palace          24.0     29.1        40.6   38.0         418.0   \n",
       "6         Everton          29.0     26.3        46.4   38.0         418.0   \n",
       "7          Fulham          28.0     25.2        49.7   38.0         418.0   \n",
       "8    Leeds United          23.0     26.1        57.3   38.0         418.0   \n",
       "9  Leicester City          27.0     26.5        54.3   38.0         418.0   \n",
       "\n",
       "   minutes  minutes_90s  goals  assists  ...  goals_per90  assists_per90  \\\n",
       "0   3420.0         38.0   53.0     38.0  ...         1.39           1.00   \n",
       "1   3420.0         38.0   52.0     38.0  ...         1.37           1.00   \n",
       "2   3420.0         38.0   39.0     24.0  ...         1.03           0.63   \n",
       "3   3420.0         38.0   32.0     20.0  ...         0.84           0.53   \n",
       "4   3420.0         38.0   56.0     38.0  ...         1.47           1.00   \n",
       "5   3420.0         38.0   39.0     29.0  ...         1.03           0.76   \n",
       "6   3420.0         38.0   45.0     32.0  ...         1.18           0.84   \n",
       "7   3420.0         38.0   26.0     18.0  ...         0.68           0.47   \n",
       "8   3420.0         38.0   60.0     45.0  ...         1.58           1.18   \n",
       "9   3420.0         38.0   64.0     45.0  ...         1.68           1.18   \n",
       "\n",
       "   goals_assists_per90  goals_pens_per90  goals_assists_pens_per90  xg_per90  \\\n",
       "0                 2.39              1.24                      2.24      1.36   \n",
       "1                 2.37              1.24                      2.24      1.38   \n",
       "2                 1.66              0.87                      1.50      1.34   \n",
       "3                 1.37              0.76                      1.29      1.03   \n",
       "4                 2.47              1.26                      2.26      1.64   \n",
       "5                 1.79              0.95                      1.71      0.90   \n",
       "6                 2.03              1.08                      1.92      1.20   \n",
       "7                 1.16              0.61                      1.08      1.07   \n",
       "8                 2.76              1.47                      2.66      1.46   \n",
       "9                 2.87              1.42                      2.61      1.47   \n",
       "\n",
       "   xg_assist_per90  xg_xg_assist_per90  npxg_per90  npxg_xg_assist_per90  \n",
       "0             0.92                2.29        1.24                  2.16  \n",
       "1             0.98                2.37        1.26                  2.25  \n",
       "2             0.87                2.21        1.15                  2.03  \n",
       "3             0.73                1.76        0.97                  1.70  \n",
       "4             1.09                2.74        1.44                  2.53  \n",
       "5             0.62                1.52        0.82                  1.44  \n",
       "6             0.81                2.01        1.10                  1.91  \n",
       "7             0.69                1.76        0.95                  1.64  \n",
       "8             1.10                2.57        1.38                  2.48  \n",
       "9             0.89                2.36        1.22                  2.11  \n",
       "\n",
       "[10 rows x 32 columns]"
      ]
     },
     "execution_count": 97,
     "metadata": {},
     "output_type": "execute_result"
    }
   ],
   "source": [
    "df = pd.DataFrame(data=data,columns=header_list)\n",
    "df.head(10)"
   ]
  },
  {
   "cell_type": "code",
   "execution_count": 99,
   "id": "41f434f5",
   "metadata": {},
   "outputs": [],
   "source": [
    "# Output the dataset\n",
    "df.to_excel(r'E:\\Data\\Football_Viz\\Dataset\\20-21PremierLeague SquadStdStats.xlsx',index=False)"
   ]
  },
  {
   "cell_type": "code",
   "execution_count": null,
   "id": "f7b2b674",
   "metadata": {},
   "outputs": [],
   "source": []
  }
 ],
 "metadata": {
  "kernelspec": {
   "display_name": "Python 3 (ipykernel)",
   "language": "python",
   "name": "python3"
  },
  "language_info": {
   "codemirror_mode": {
    "name": "ipython",
    "version": 3
   },
   "file_extension": ".py",
   "mimetype": "text/x-python",
   "name": "python",
   "nbconvert_exporter": "python",
   "pygments_lexer": "ipython3",
   "version": "3.9.7"
  },
  "toc": {
   "base_numbering": 1,
   "nav_menu": {},
   "number_sections": false,
   "sideBar": false,
   "skip_h1_title": false,
   "title_cell": "目录",
   "title_sidebar": "Contents",
   "toc_cell": true,
   "toc_position": {},
   "toc_section_display": true,
   "toc_window_display": false
  }
 },
 "nbformat": 4,
 "nbformat_minor": 5
}
